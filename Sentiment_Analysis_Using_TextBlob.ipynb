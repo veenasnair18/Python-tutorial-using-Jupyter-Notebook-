{
  "nbformat": 4,
  "nbformat_minor": 0,
  "metadata": {
    "colab": {
      "name": "Sentiment Analysis Using TextBlob.ipynb",
      "provenance": []
    },
    "kernelspec": {
      "name": "python3",
      "display_name": "Python 3"
    }
  },
  "cells": [
    {
      "cell_type": "code",
      "metadata": {
        "id": "NJ3A0NsZMKMw",
        "colab_type": "code",
        "colab": {}
      },
      "source": [
        "!pip install TextBlob"
      ],
      "execution_count": null,
      "outputs": []
    },
    {
      "cell_type": "code",
      "metadata": {
        "id": "rKetEdZYJ9Il",
        "colab_type": "code",
        "colab": {
          "base_uri": "https://localhost:8080/",
          "height": 187
        },
        "outputId": "46922e2e-45ad-4e59-c714-90b2a76bc1bb"
      },
      "source": [
        "!pip install emoji"
      ],
      "execution_count": 5,
      "outputs": [
        {
          "output_type": "stream",
          "text": [
            "Collecting emoji\n",
            "\u001b[?25l  Downloading https://files.pythonhosted.org/packages/40/8d/521be7f0091fe0f2ae690cc044faf43e3445e0ff33c574eae752dd7e39fa/emoji-0.5.4.tar.gz (43kB)\n",
            "\r\u001b[K     |███████▌                        | 10kB 15.7MB/s eta 0:00:01\r\u001b[K     |███████████████                 | 20kB 2.8MB/s eta 0:00:01\r\u001b[K     |██████████████████████▋         | 30kB 3.6MB/s eta 0:00:01\r\u001b[K     |██████████████████████████████▏ | 40kB 3.9MB/s eta 0:00:01\r\u001b[K     |████████████████████████████████| 51kB 2.3MB/s \n",
            "\u001b[?25hBuilding wheels for collected packages: emoji\n",
            "  Building wheel for emoji (setup.py) ... \u001b[?25l\u001b[?25hdone\n",
            "  Created wheel for emoji: filename=emoji-0.5.4-cp36-none-any.whl size=42176 sha256=6af39877a24545f8f1dcef09ec0dd248fa65b5c5b73b592d27571818ca6fc34a\n",
            "  Stored in directory: /root/.cache/pip/wheels/2a/a9/0a/4f8e8cce8074232aba240caca3fade315bb49fac68808d1a9c\n",
            "Successfully built emoji\n",
            "Installing collected packages: emoji\n",
            "Successfully installed emoji-0.5.4\n"
          ],
          "name": "stdout"
        }
      ]
    },
    {
      "cell_type": "code",
      "metadata": {
        "id": "IldHIm1hLNrn",
        "colab_type": "code",
        "colab": {}
      },
      "source": [
        "from textblob import TextBlob\n",
        "import emoji"
      ],
      "execution_count": 6,
      "outputs": []
    },
    {
      "cell_type": "code",
      "metadata": {
        "id": "d-JtJxTTNfuG",
        "colab_type": "code",
        "colab": {
          "base_uri": "https://localhost:8080/",
          "height": 51
        },
        "outputId": "367194c2-e2bb-4ffc-8cdd-b728ba9e3256"
      },
      "source": [
        "s=input(\"Enter your Sentence\")\n",
        "t=TextBlob(s)\n",
        "v=t.sentiment.polarity\n",
        "if v<0:\n",
        "  print(\"Negative Sentence ,demotivating!\",emoji.emojize(\":disappointed_face:\"))\n",
        "elif v==0:\n",
        "  print(\"Neutral Sentence\",emoji.emojize(\":zipper-mouth_face:\"))\n",
        "elif v>0 and v<=1:\n",
        "  print(\"Positive!\",emoji.emojize(\":grinning_face_with_big_eyes:\"))\n"
      ],
      "execution_count": 7,
      "outputs": [
        {
          "output_type": "stream",
          "text": [
            "Enter your SentenceI don't know what to do!\n",
            "Neutral Sentence 🤐\n"
          ],
          "name": "stdout"
        }
      ]
    }
  ]
}