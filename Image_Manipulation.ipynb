{
  "nbformat": 4,
  "nbformat_minor": 0,
  "metadata": {
    "colab": {
      "name": "Image Manipulation.ipynb",
      "provenance": []
    },
    "kernelspec": {
      "name": "python3",
      "display_name": "Python 3"
    }
  },
  "cells": [
    {
      "cell_type": "markdown",
      "metadata": {
        "id": "VgI5u2wbRc1T",
        "colab_type": "text"
      },
      "source": [
        "# **Pillow**\n",
        "Python Imaging Library is a free and open-source additional library for the Python programming language that adds support for opening, manipulating, and saving many different image file formats.\n",
        "For more info:https://pillow.readthedocs.io/en/3.0.x/handbook/tutorial.html"
      ]
    },
    {
      "cell_type": "code",
      "metadata": {
        "id": "n5c13gwZWXLQ",
        "colab_type": "code",
        "colab": {}
      },
      "source": [
        "!pip install pillow\n"
      ],
      "execution_count": 0,
      "outputs": []
    },
    {
      "cell_type": "code",
      "metadata": {
        "id": "lHt_jOQxXuK5",
        "colab_type": "code",
        "colab": {}
      },
      "source": [
        "from PIL import Image\n",
        "i=Image.open(\"imgname.imgformat\")\n",
        "i.show()  #this shows our image in a separate window"
      ],
      "execution_count": 0,
      "outputs": []
    },
    {
      "cell_type": "code",
      "metadata": {
        "id": "uPAEEaLDZWVK",
        "colab_type": "code",
        "colab": {}
      },
      "source": [
        "i.size  #shows image dimensions"
      ],
      "execution_count": 0,
      "outputs": []
    },
    {
      "cell_type": "code",
      "metadata": {
        "id": "KisrugXab5eL",
        "colab_type": "code",
        "colab": {}
      },
      "source": [
        "i.format_description  #shows image format"
      ],
      "execution_count": 0,
      "outputs": []
    },
    {
      "cell_type": "code",
      "metadata": {
        "id": "3RYsJvdFcNh6",
        "colab_type": "code",
        "colab": {}
      },
      "source": [
        "i.filename  #shows filename"
      ],
      "execution_count": 0,
      "outputs": []
    },
    {
      "cell_type": "code",
      "metadata": {
        "id": "sr37joomcTS_",
        "colab_type": "code",
        "colab": {}
      },
      "source": [
        "i.save(\"imgname.format\")  #saves image in desired format and name"
      ],
      "execution_count": 0,
      "outputs": []
    }
  ]
}