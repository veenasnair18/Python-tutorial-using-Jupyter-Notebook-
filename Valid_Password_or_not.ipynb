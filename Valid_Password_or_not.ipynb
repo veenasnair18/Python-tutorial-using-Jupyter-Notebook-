{
  "nbformat": 4,
  "nbformat_minor": 0,
  "metadata": {
    "colab": {
      "name": "Valid Password or not.ipynb",
      "provenance": [],
      "authorship_tag": "ABX9TyNDRo0NN1+utvZ6lyfW59Q3",
      "include_colab_link": true
    },
    "kernelspec": {
      "name": "python3",
      "display_name": "Python 3"
    },
    "language_info": {
      "name": "python"
    }
  },
  "cells": [
    {
      "cell_type": "markdown",
      "metadata": {
        "id": "view-in-github",
        "colab_type": "text"
      },
      "source": [
        "<a href=\"https://colab.research.google.com/github/veenasnair18/Python-tutorial-using-Jupyter-Notebook-/blob/master/Valid_Password_or_not.ipynb\" target=\"_parent\"><img src=\"https://colab.research.google.com/assets/colab-badge.svg\" alt=\"Open In Colab\"/></a>"
      ]
    },
    {
      "cell_type": "markdown",
      "source": [
        "A Password is considered as valid if it contains\n",
        "\n",
        "*   atleast 1 alphabet\n",
        "*   atleast 1 digit\n",
        "* at least 1 uppercase letters\n",
        "* its length is equal to the minimum length\n",
        "It is invalid if it contains special character and whitespace\n",
        "\n"
      ],
      "metadata": {
        "id": "JQaXm36kutkw"
      }
    },
    {
      "cell_type": "code",
      "execution_count": 33,
      "metadata": {
        "colab": {
          "base_uri": "https://localhost:8080/"
        },
        "id": "2nTu5OWcupd3",
        "outputId": "63bda69d-cb1b-4e5e-c501-b4c43244c3f4"
      },
      "outputs": [
        {
          "output_type": "stream",
          "name": "stdout",
          "text": [
            "hElo12\n",
            "4\n",
            "2 1 3\n",
            "Valid\n",
            "1\n"
          ]
        }
      ],
      "source": [
        "def CheckPassword(str,n,min):\n",
        "  n = int(len(str))\n",
        "  a = int(min)\n",
        "  ci = 0 \n",
        "  ca = 0\n",
        "  cc = 0\n",
        "  sum = 0\n",
        "  if(n>=a):\n",
        "    if(str[0].isdigit()==True):\n",
        "      return 0\n",
        "    else:\n",
        "      for i in range(0,n,1):\n",
        "      \n",
        "        if (str[i]==\" \" or str[i]==\"+\"):\n",
        "          return 0\n",
        "        else:\n",
        "          if(str[i].isupper()):\n",
        "            ci = ci+1\n",
        "          elif(str[i].isalpha()):\n",
        "            ca = ca+1\n",
        "          elif(str[i].isdigit()):\n",
        "            cc = cc+1\n",
        "  print(cc,ci,ca)\n",
        "  if(ci>=1 and ca>=1 and cc>=1):\n",
        "      return 1\n",
        "  else:\n",
        "    return 0 \n",
        "\n",
        "\n",
        "  \n",
        "\n",
        "str=input(\"\")\n",
        "n=len(str)\n",
        "min=input(\"\")\n",
        "b = CheckPassword(str,n,min)   \n",
        "if(b==1):\n",
        "  print(\"Valid\")\n",
        "  print(b)\n",
        "else:\n",
        "  print(\"Invalid\")\n",
        "  print(b)"
      ]
    }
  ]
}