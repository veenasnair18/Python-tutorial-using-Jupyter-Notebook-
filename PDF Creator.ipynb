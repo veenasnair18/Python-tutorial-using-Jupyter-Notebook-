{
 "cells": [
  {
   "cell_type": "code",
   "execution_count": 6,
   "metadata": {},
   "outputs": [],
   "source": [
    "from fpdf import FPDF"
   ]
  },
  {
   "cell_type": "code",
   "execution_count": 14,
   "metadata": {},
   "outputs": [
    {
     "data": {
      "text/plain": [
       "''"
      ]
     },
     "execution_count": 14,
     "metadata": {},
     "output_type": "execute_result"
    }
   ],
   "source": [
    "p=FPDF()\n",
    "p.add_page()\n",
    "p.set_font(\"Arial\",size=15)\n",
    "p.cell(200,10,txt=\"Here is how you make a pdf using python\",ln=1,align='C')\n",
    "p.set_font(\"Courier\",size=10)\n",
    "p.cell(200,10,txt=\"It is very easy to use.\",ln=2,align='L')\n",
    "p.set_font(\"Times\",size=25)\n",
    "p.cell(200,10,txt=\"Try using it with other fonts and settings\",ln=3,align='R')\n",
    "p.set_font(\"Symbol\",size=17)\n",
    "p.cell(200,10,txt=\"***A***\",ln=4,align='C')\n",
    "p.set_font(\"ZapfDingbats\",size=35)\n",
    "p.cell(200,10,txt=\"+++B+++\",ln=5,align='R')\n",
    "p.output(\"pythontopdf.pdf\")"
   ]
  }
 ],
 "metadata": {
  "kernelspec": {
   "display_name": "Python 3",
   "language": "python",
   "name": "python3"
  },
  "language_info": {
   "codemirror_mode": {
    "name": "ipython",
    "version": 3
   },
   "file_extension": ".py",
   "mimetype": "text/x-python",
   "name": "python",
   "nbconvert_exporter": "python",
   "pygments_lexer": "ipython3",
   "version": "3.7.3"
  }
 },
 "nbformat": 4,
 "nbformat_minor": 4
}
