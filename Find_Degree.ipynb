{
  "nbformat": 4,
  "nbformat_minor": 0,
  "metadata": {
    "colab": {
      "name": "Find Degree.ipynb",
      "provenance": [],
      "authorship_tag": "ABX9TyOjmK4NOdkITh7v+IrcqLno",
      "include_colab_link": true
    },
    "kernelspec": {
      "name": "python3",
      "display_name": "Python 3"
    },
    "language_info": {
      "name": "python"
    }
  },
  "cells": [
    {
      "cell_type": "markdown",
      "metadata": {
        "id": "view-in-github",
        "colab_type": "text"
      },
      "source": [
        "<a href=\"https://colab.research.google.com/github/veenasnair18/Python-tutorial-using-Jupyter-Notebook-/blob/master/Find_Degree.ipynb\" target=\"_parent\"><img src=\"https://colab.research.google.com/assets/colab-badge.svg\" alt=\"Open In Colab\"/></a>"
      ]
    },
    {
      "cell_type": "markdown",
      "source": [
        "You are given the lengths AB  and BC .\n",
        "Your task is to find MBC in degrees.\n",
        "\n",
        "Input Format\n",
        "\n",
        "The first line contains the length of side .\n",
        "The second line contains the length of side .\n",
        "\n",
        "Constraints\n",
        "\n",
        "\n",
        "Lengths are natural numbers.\n",
        "Output Format\n",
        "\n",
        "Output is in degrees.\n",
        "\n",
        "Note: Round the angle to the nearest integer.\n",
        "![image.png](data:image/png;base64,iVBORw0KGgoAAAANSUhEUgAAAZoAAAE/CAYAAAB/1wU+AAAgAElEQVR4nO3deZhU1b3u8W8N3Qwyj+IAEgccMBojCup1QEVFERBBFDF6HBKjniTOJ+cYczJ4c9WE5Gg04ogTAgoyq3hIoiAOCOIYVBAIc0DAAejuqvrdP/Zeu3cX1XN1d1X1+3mefqp71+6q6q6q9dZvrbXXBhERERERERERERERERERERERERERERERERERERERERHJXZEGuB3L0m2KiIiIiIhULVsVTWegFVAGbEZVjYiIZEHUv/we8E9gG7AduMDfHmuKByUiIoXDBclv8SqYEv9ymr89W9WSiIg0Qy5EWgLv4QXMMv9yK9Dbvz6656+KiIhUz1Uzp+CFy2rgfLyuMwOuSdtPRESaqbpWHG6wf4h/uRiYgVfVgBc6AMk63r6IiBSIugRNBEgBbYGz/W2v+pfz/cuTgMPqcR8iItKMue6wsykfkznE39YP2OVv/2na/iIi0gzVpdpI7zZ7B9gItAdWAe/728/Dq36SaAaaiIjUkAuMTsBKvND5ClgHbPAvv/W378Y7xgbUfSYiIjXkusGG44VJyv+y0FcKSPjf/2fa74mISDNT20rDdZud518uBo4BjgSOAvoC/YEV/vWDgTjqPhMRkRpwodQTWI8XOr/xt8XS9vmzf30C71ib8HUiItKM1KXx7wGUAp9RcbmZaOj2ngM+x5uR1jO0j4iISLWiwF54qzVXpTXesTbxWty2wkhERCqoLBjqGhiRevyuiIgUkJoEQm1Doxho53+v8RwREckaF0Y9gIn+JShsREQkS1zQdAR2AK/hnbETFDYiIpIF4dUG1uJNi34VhY2IiGSJC5rOeGumuRUG/heFjYiIZEG4onFBU4rCRkREsiRT0ITXS/tf/zpQ2IiISB1UFjRuCRtVNiIiUi9VBU04bDRBQERE6qS6oFHYiIhIvVQZNNFoVGEjIiL1UmnQxGIxi0QimcJmHpogICIiNbRH0MRisRRgQ4YMsaFDh5q/TWEjIiJ1UmnQjB071kpKSuy0004zwOLxeKZuNIWNiIhUqdKgGTVqlJmZbdu2zQYOHFhZ2KiyERGRKlUaNKNHjzZn+/btdvrppytsRESk1qoNmrKyMoWNiIjUWbVBk0wmLZFIBN1oVYTNKyhsREQkTY2CJnxZzZjNK3jntgGFjYhIk8urhjgajZJKpejQoQMvvPACAwcOJJFIEI/HAWJAEjgTmAR0wDseJ6/+RhGRQpN3jXB62Jx22mmVhc1TQFsUNiIiTSovG+Bw2EydOrWysDkPeAaFjYhIk8rbxreGYTMEeBpoh8JGRKRJ5HXDm96NduKJJ2YKm/NRN5qISJPJ+0bXhU3Hjh2ZNm0aAwYMUNiIiOSQgmhwXdh07dqV6dOnVxY2Q/G60RQ2IiKNqGAa22g0SjKZrC5szscLmzYobEREGkVBNbSxWKxC2PTv319hIyLSxAqukQ2HzYwZMyoLG3WjiYg0koJsYGsRNpogICLSwAq2ca1hN9pQ4EkUNiIiDaagG1YXNt26dasqbIahsBERaTAF36jWMmw0QUBEJMuaRYOaHjbHH398ZWHzFAobEZGsajaNaThsZsyYobAREWkkzaohVdiIiDS+ZteIpofNcccdpzEbEZEG1Cwb0HDYzJw5s7KwGY7CRkSk3ppt41nDymY4MAGFjYhInTXrhtOFTffu3asKmwvwwmYvFDYiIrXW7BvN9LDp169fZWHzJAobEZFaU4NJxbCZOXOmwkZEJIvUWPrCYTNr1iyFjYhIlqihDEmfjaawERGpPzWSaWrRjaYJAiIiNaAGMoMaThAYgcJGRKRaahwr4cJm7733ZsaMGRx77LEKGxGROlDDWIVw2MycOTMIm1gsBnuGTWsUNiIie1CjWI1w2MyaNYtjjz2WZDKZKWyeRGEjIrIHNYg1kD71+fvf/z7JZDJTN5rCRkQkjRrDGsoUNlWM2bRCYSMiAqghrJVM3WgZwuZCYDzQAoWNiIgawdpKn43mKpu0MZtLgYdR2IiIqAGsCxc2PXr0YObMmcGYTVrYjMULm2IUNiLSjKnxq6Nw2MyYMYO+fftWFjaPoLARkWZMDV89uLDZZ599mDNnDkcccYTCRkQkjRq9enJhs//++zN37lyFjYhIGjV4WVCLsNGYjYg0O2rssiQcNlV0o12GwkZEmhk1dFnkwqZnz57Vhc146hY2kaw/aBGRBqagybJw2MyePZvDDz88U9j8gNpXNhHAariviEjOUKPVAFzY9OrVi7lz51YWNq6yKaJmYRMDuvv7iojkDQVNAwlXNlWEjatsqgqbmH/5A+BdYIj/s7rRRCQvKGgaUC3DJlM3mttnGPBHYF/gJP86BY2ISA25BrMTsBGwWCyWAmz06NFmZpZMJi2fJRIJMzNbvXq1HX744eb/jYY35pLwLx/HCxvwwsZVMqcCW/x9HqU8iBQ0IpIXVNE0gvTZaJVUNpcDD1EeNkngGOBpoDMwDbgBr+pxEwNERHKegqaRhCcIVBM2D+OFycHAZLzusvnAlcBOvOdMISMieUNB04jSw+awww5LD5sU3my0iXgnUDsQbwLAWGAb3vOlWWciklcUNI0sfepzWti4IBkFDADeB0YC6ykPIhGRvKKgaQLpYXPooYeSTCaJRqPgPSdJf9dPgS/wxmQUMiKSlxQ0TSQcNq+++irf+973SKVSrrJxx9VcCDwBxNGqACKSp9RwNaFIJIKZ0a1bN7p06VJhO+XdaD/Am41W0xUERERyihqtJmJmRCIRkskkF198MfPmzaNly5Z06NABM0vvRrsChY2I5Ck1WE3AzIKgue6663jhhRcAuPbaa1m8eDGHHnpouBvNTX2+AvgLChsRkVor+JUB0rmVAm677Ta3OoCNGTMm2L5y5Uo79NBDK1tB4FG8MZvw/05ERKrQrILG/S133XVXEDKDBw+2Xbt2mZlZaWmpmZl98cUX1qdPn3DYpNgzbCIobEREqtVsgiaVSpmZ2bhx4ywSiRhgJ5xwgm3bts3Myv9OV9nUImzUjSYiUoVmETQuZMzMBg4caIAdddRRtmHDBjPb829U2IiIZE+zCBqz8rDZuHGjXXPNNfbhhx+aWXmopKth2DyCN0EAFDYiIhk1m6BJl0qlKlQ6mYQnCNQwbDRmIyI5RZ+Am4CZkUx6q8z4B2dWyq0g0Lt3b+bOnUufPn3c2miuuyyJt7Lzg2g2mojkIAVNE4hEIsRisWpDxqll2LgbVdiISE5Q0OSJ9LA55JBDMoXNVcD/UH6+GoWNiDQ5BU0eCYfNSy+9VFnYXAfch8JGRHKEgibP1DBsrscLG0dhIyJNRkGTh8JhM2vWLHr37l1Z2Pwp9GsKGxFpEgqaPOXC5uCDD2bu3LmVhc0NKGxEpIkpaPKYC5s+ffowZ86c6sJGYzYi0iQUNHnOhc2hhx7KnDlzOOCAAyoLG81GE5EmoaApAOGwmTt3rsJGRHKKgqZAhMPmpZdeUtiISM5Q0BSQ8JhNNZWNxmxEpNEoaApMDcds/h2FjYg0EgVNAXJhc9hhhylsRKTJKWgKVC3C5o8obESkASloClh62PTq1StT2PwEhY2INCAFTYELh83cuXMVNiLS6BQ0zYDCRkSakoKmmVDYiEhTUdA0I7UYsxmHwkZEskRB08y4sDn88MOrCpuforARkSxR0DRD4bCZPXt2VWHzBxQ2IlJPCppmyoXNEUccwezZs+nZs2emsPkZqmxEpJ4UNM1YOGzmzp1bWdioG01E6kVB08yFu9GqCRt1o4lInShoZI8JAlV0oylsRKTWFDQCVOxGU9iISDYpaCRQiwkCv6dxwiYCxPyv6l6r0VrsKyKNSG9IqSAWi5FIJOjbt29VYXMjjRM25t9fEkhVcT8R//rwviKSIxQ0sod4PF4hbPbff//qwiZCdsPG3dY+wED/61i8aiXTvgb08vc7HeibxcciIgXANSqdgI2AxWKxFGCjR482M7NkMmnS+BKJhJmZffDBB7b//vub/9wYXsWQwGvgf+8/f1GyFzbudqb491HmX94Zuq/w5YHAKn8fAzYBPdP2EZEmojehVMqN2fTt25c5c+ZUV9m47qr6ho2rUAC6+Jdl/uW/AV0p70Zz93UxXkVT4v9uR6B9PR+HiGSJgkaqVIuwuYfsd6Ml/MtFwDq8KmWge2j+fbcEhvvb5vu/48ZrRCQHKGikWjUImxRwM/Ab9qw26sNVNsuA1/zvL0jb50TgGGAF8BJQlIX7FZEsUtBIjaTPRksLGzfr6z+BX5PdsAHYBcz0vz8N6E15tTPCv/xfvLCB8oASkRygoJEac7PRjjzyyKrC5r/Ifti0BP4KbMUboznb374PMNj/fhreGA0oaERyioJGaiUcNi+++CLdu3dvjLBpgTcj8e/+z66KOR1vEsAavCBqVc/7EZEGoKCRWovH4ySTSY455hhmzpzZGGHjXqez/MsBwOHAuf7PL+NVMy3qcR8i0kAUNFInboJAv379GiNsXFfYX/GOkWkN3AGc7G+fXte/Q0QanoJG6sxNEHBhs/fee1cWNr+ifmHjjtFZhRc24HWf9QA+Ahb62zQ2I5KDFDRSL27Mpl+/fkyfPr2ysLmDuoVNKu0SyqsXN+vsJWB7FfuLSBNT0Ei9ubA57rjjsh027piY1qFtfwPW4w38GxW7zYpCl5nWRRORJqCgkaxID5tKxmzuAP6bqsPGQtvnAW8DC/yfY3izz+7CWy3gD8Cbof2XA68AU/HGctztiUgzp0U1C0hZWZmZmb311lvWvXv39IU4k3gN/3/7z3k2F+IUkRylikayKlzZzJgxg27dumWqbH5B9ZUNeK/PTGEUDX2FRSrZLiJNSG9Iybpw2FQx9bkmYZPyv9K7v1KhrzCrZLuINCEFjTSIGo7Z1LSyEZE8pqCRBuPC5vjjj68ubH6JwkakYClopEGFw6aKtdHuRGEjUrAUNNLgXNj079+/qspGYSNSoBQ00iii0ShlZWVBN1ols9Hu9L8UNiIFREEjDS6VShGNRonH4xXCpmvXrpnC5pcobEQKioJGGpQLmRUrVrB9+3aKioooKyujf//+VR1no7ARKSAKGmkwyWSSaDTKokWLOProo/nhD39IIpGoEDZVdKMpbEQka7QETQFyz9nChQutS5cuhncwpV188cVWWlpqZuXL1bzxxhvWrVu3yparudN/fWi5GhGpMwVNgQmHTLt27YIAicfjBtiIESMslUqZWY3D5hf+a0RhI5KH1HUmDSYajRKN7vkSi8ViRCJeXripzwMGDODFF1+sbILAf+OFjbrRRKROVNEUiGQyaclk0lKpVPCcvfnmm0GlAtiYMWOCKsZVNWYVK5uuXbuqshGRrFLQFIDwc+TCJpFImJkXNm3btrWLLroo2BYOGUdhIyINRUGT51xAzJ8/30aPHm2bN282s/IKx8xs5cqVtn37djPLHDLpt6WwEZFsUtDkMffcvPHGG8GJzgYOHGhffvmlmVmFbrRUKlVlyDgubBYuXKiwEZGsUNDkKRcaf//734OQKS4uDsLGVTYubGoSMk4Nw+YO/7WjsBHJYZp1JnViZsHMsd/85jds2rSJoqIiSktLKS4uZv78+Tz11FNA+eoAbv+acLPRTjjhhKpmo/0KL2w0G01EqqSKJs+EZ5eZmS1fvtwOOeSQChXNmDFjbPfu3WZW9ZhMdcKVjTvwM0Nl85/+ayiGwkZEMlDQ5JH08Rb382effRaEzZgxY4Kj/+sTMk6msIlGo+lhc7P/OlLYiMgeFDR5wk1NXrp0qX366afBNrd92bJl9h//8R/2zTffmFl2nzeFjYjUh4ImD4SPiWnfvr316dPHVq9ebWblx8246qWms8tqy4XNggULrHPnzgobkTyhyQBSrVQqRSwW46233uL8889nx44dLF++nMGDB/PPf/4zWGbGzEgmkwC1GvivKTdB4MQTT2TKlCl06NDBTTQITxC4By9skmg2mkhOUNBIldyMsffee49zzjmHzZs3E41GicVifPTRR5x11lls27aNSCRCJBKpsI5ZQ3Bhc9ppp1UXNjehsBHJCQoaqZSZBd937tyZ/fbbD6DCVOXDDz+c1q1bN+rjcmFzxhlnVBU296KwERGfxmhyUHhxTDfesnbtWjv66KODBTJHjx6d1dllteXGbObNm2ft27evbMzmJv/1pTEbkWZMQZNjMg3uu+dg3bp11rdvX7vgggsyrsLc2GoYNjf6rzGFjUgTUNeZVJBIJIhGoyxcuJCTTz6ZDz74gEgkgpmRSqXYZ599+Nvf/sbjjz9OPB6vsEJAUwh3oz3//PO0a9cuUzfa7/HCRt1oIs2UKpocET6HzN57722A9e7d2z7++OPgelfpNNQU5rpSZSOSu1TRCFA+u+y1115j2LBhbNy4keLiYr744gvOPfdcli5dusfZMpuykkmXPkGgffv2qmxEcoSCRip4/PHHg5BxC2R+8cUXTJw4EShfTDOXQsZxYXPmmWcqbESkAnWdNaH0BTK/+uorO/vssysskDl69GgrKSkxs6Yd+K8p14328ssvV9WN9jP/daduNJFmQEHTRDKdftnMbMeOHUHY5FvIOOGwadeuncJGpJlT0DQBt3bZokWL7PXXXw+2uf/1hg0b7N577w1Ov5yPz4HCRkQcBU0jc//Pt99+27p06WLt27cPwiZ8oKZZwy2Q2Vhc2LzyyiuZwiaFwkakwWkyQDPjZpctXryYIUOGsGXLFnbs2MGwYcNYsGAB0Wg0GPBvyAUyG0v6BIG042zAC5o/4IWNJgiINAAFTTPiQmb16tUMGTKETZs2EYvFiEajbN26laFDh7J8+fIgbBp6gczG4sJm0KBB1YXNT1HYiGSdgqaZsNAR/N26dWPgwIGAV62442NOPfVU9t1332B7IQmHzeTJkysLm3EobEQKksZoGlimBTITiYRddtllwQKZI0eOtN27d5tZfs0uqy03ZvPSSy9VNWbzU/81qTEbkSyIN/UDkIblusu++eabYDl/t+3xxx+nrKyM3bt38/TTT1NcXBxcV6hcZXPWWWcxefJkRo0axVdffUU0Go2kUikXvOP8yz/hhY0LIBHJU6poGoibwvzWW2/ZwQcfbBMnTjQz71O9q1pKSkqaRSWTLlzZtG3bVpWNSIFT0DQA9z975513rEePHgZYq1atbMqUKcH1ubpAZmOpYdj8xH99KmxE6qhw+0iaMdf9tWDBAoYMGcKGDRuIx+Ps2rWLsWPH8swzz+T0ApmNJdyNNmXKFNq2bZtpgsAf8cJGEwRE6khBU4DMPwXzwoUL2bhxI0VFRSSTSYqKiti9ezevvPJKsG+uLpDZWNLHbBQ2IoVJXWdZkkwmg3EZ1xV2++23G2BFRUXNanZZbblutLlz51bVjfbv/mtV3WgieUZBkwWZFshMD5uRI0farl27zEwhk4kLmzlz5ihsRAqMgqaeXBXz+uuv22OPPWZm5cv/m3kN6OTJk23r1q3BdZKZwkakMClo6sH9bxYvXmz77LOPAXbfffeZme0xo6y5zi6rrXDYtGnTprKwucF/3SpsRKqhyQB5zM0ue/fddzn//PNZv349sViMG264gT//+c9EIpFgYkAhLJDZWNwEgXPOOYfJkyfTpk2bTBME/gcvbDRBQCQPqKKpg/BJyg455BADLB6PWyQSsVgsZoC98sorZlbetSa1U8PK5jr/9avKRqQSqmjykPlVipnRrl07rr76asCrcOLxOMlkkuHDh3PccccBFPSSMg0pXNlMmjSpssrmT8DVqLIRyWmqaGoh/YRkrrIZN25csEDmiBEjbOfOncF+Uj+uspk9e3ZllU0CL2xAlY3IHmJN/QAof1O2wuuGaOOfDyXSt29fLrzwwgpL3Ddnbkxm8+bNFBcXE4/Hg+0nnHACrVu3plOnTjz55JO0atWq4BfIbCzRaJREIkGfPn046qijmD59OqWlpUSj0Yh51WUEOBdYD7xLbryvRCREFU0NuHGWJUuWWPfu3e2WW24xsz1PvWym2WUNxVU2U6dOtZYtW1ZW2Vzlv55V2Yj49HE3D6RSKWKxGEuXLuW8885j06ZN3HPPPfz85z8PKhY3w8z88RtVgNnnxmyGDx/O008/TcuWLdPHbKLAX/DCpq5jNhrnEWkAqmiq4P72N99807p3727+/yeYWXbTTTeZmaqYxuQqm+eff95atGiRzcomErpU2EjBUEWT48yvUDZs2MCmTZvwx6+CimXFihWAKpjG5CqbESNG8Mwzz2SrsoniTeboCXTxv9eTKgVBQZOjUqkUyWSSaDRKKpVi2LBhTJo0KZgA4LpwJk6cCKAJE40sHDZPPfVUVWFzJdWHjTuL5/7Ay8AUoDMKGykQOpVzDgrPFkulUkQiEZLJJKNGjQLgoosuYujQocGnaYVM03Bhc+GFFwIwduxYdu/eHT4ttAsbgEfJfFroKF4QdQWeBQ7Fe1+2AbbiBY1OIy1STxqjCXGzy9544w27/fbbgyX9w4tkLlq0yP71r38F26VpuTGbyZMnVzYbrQyvsoGKYzauR6EtMAsvUFYBh6ddLyL1pKDxub9z6dKltt9++xlgV155ZYWDNNMP2JTcEA6btAkCSTKHjQuRYrxKxvzX/wB/u0JGJIsUNFZxFeb999/fACsuLg7CprS01MzKw0Yhk3tc2EyZMqWqsPk3//XuguRBvJDZAZzjb9MBnyJZ1uyDJhwaJ554YoUzYrqweeSRR8xMC2Tmuioqm0zdaP8PL2R2Axf72xQyIg2gWQdN+tkw582bZ507d64QMsOHD7cdO3aYmdYuywfVhI0B24EXgFL/52v994BCRqSBNNugcX9X+jIyf/3rX4OwGT58uH377bdmppDJJ5nCJhKJuLBJ4i+ACtzov/4VMlKwNODYRNwU5lWrVrF9+/ZgenIymeTUU0/l6aef5oorrmDChAm0bt06mOYs+cFNfR45ciRPPvkkLVq0cNPQ3VH/SX/Xrf6lnlyRBtTsKho3zvL+++9b586d7bzzzgumMWuBzMLiKptp06YFJ6ZL60YLTxBQVSMFSRVNI3MLZL7//vsMHjyYrVu3MmvWLC655BJKSkqIRCJEIhFSqRSpVArQ8jKFwJ1K28oXPXUHYsbxDuq8Aq/KUdhIwVHQNCLXXfbee+8xaNAg1q5dSywWIx6PM3XqVC688EJKS0uDsIlGowqZPJZIJIjH48yePZtLL72URCLBfvvtR/v27TEzt1xNCigCHkJhIwVKQdMEwtVKWDKZDD7xSn5LJpPE43EWLlzIZZddxu7du+nRowfz58/niSeeIB6Puw8eUSqGzeUobESyruDHaNzyMeHxlyVLltg+++wTnH556NChml1WINxz/P777wfPcadOnWzBggXBPpMmTQqmr4cO6jS8Kc9X+O8JhY1IlhR00GQa2HeTAZYuXWqdOnWyc845x3bu3LnH/pJ/3PP38ccf2wEHHGCAtW7d2mbNmmVm3uQAN0Hgueeey7SCgAuby/33hcJGJAsKNmhcoLzzzjt2ySWX2Lp164Lt7m/6/PPPtUBmAXHP+csvv2yxWMwikYg988wzZlY+Ay38/cSJExU2Io2gIIPGPeZly5ZZz549DbCTTjrJNm/ebGZaILOQuedy+vTpVS4dFK5squhGU9iIZEHBBY1raBYvXhyEjGtITjrpJFu/fn2wnxbILEzh57Sq12+4slHYSKHSrLMG9Otf/5o1a9ZQXFxMaWkpLVq0YMGCBTz88MNA+XRnTWEuPOFjodxJ7DJxKwiMHj2aCRMmUFxcnGk22njgB2g2muQpBU0WpU9bHjduHEcccUQQMiUlJZx//vnceKO3vFVVDZDkv2g0WqPnOFPYmHecTThsHkZhI3lKLV2WuE+u0WgUM8PM6N27N7Nnz+aII46gpKSEoUOH8uyzz9KmTRudflkqSA+boqKiTJWNwkbykoImC5LJJNFolA8//JBPP/2UaDRKKpUimUzSq1cvnn/+eW666SYee+wx9tprLy2QKRmFw+aJJ56orBtNYSNSB3k9GcDNJvrwww+te/fudsABB9iKFSvMbM9zzWh2mdSEmyDw7LPPVjZBoAS4zH/fKGwk56miqQe3QOZHH33EOeecw6ZNm1i1ahXnnHMOK1euDLrRoHxRRVUyUh1X2Vx88cVBZWMVx2yK8SqbMaiykTygoKkjNyazYsUKBg0axD//+U9isRixWIxPP/2UQYMGsX79+mAwOBaLKWSkxtLDJh6PVxY2o1DYSI5T0NSBhQby27VrR+/evQGCVZcBDjzwQNq0adNkj1HyXzhsJkyYkClsWgFPoLCRHKegqSU3fdn8mWVdu3Zl5syZnHLKKSQSCRKJBOeeey4vvPAC7dq10+wyqZf0ysZ1x2YIm5EobCRHxZv6AeQT113mZo25sOnYsSMvvvgigwcPpk2bNkyaNCmYXaZjZaS+XNi4k+NdddVVQdikvE8+rYAJ/u5T8MImWekNijQytYI15KYwL1u2jJNPPplFixYFoZNKpejQoQOzZs1iypQpChnJOhc2V1xxBePHjw8+6KRVNhNQZSM5SC1hDYRnlw0bNoyFCxdy4YUX8vbbbxOPe0Whq2xcd5lCRrLNhc2VV17JQw89FIRNJBJRN5rkNLWG1XCVybvvvsu5557LqlWrKC4uZsOGDQwbNozXX399j1DRmIw0FBc2V111VVDZAOGwaY3CRnKMgqaGJk6cyOrVq4MFMl3YTJjgdY27QX+FjDS0cGUzfvz4YHuGsLkQhY3kAAVNJdwSMi447rrrLi666KIgZEpLSzn33HP54x//CKiKkcZVw7CZgMJGcoBmnaVxM8lcd5ibzlxcXBxUL5MmTeK8887TApnSpOLxOMlkkquuugqAa665BvDCxszCYQPwPJqNJk1EQZPGhcySJUvYsmULgwYNCiqbFi1a8NBDD9G/f38uueQS2rZtq9ll0qRisZjCRqQGcmZRzeVv4VkAABDVSURBVN27d9vWrVvt7bfftl69ellRUZHNnj07eAxaIFNylVuI8+GHH7ZIJBJ8Ub4Q57d43WigbjRpZPooTvmCl7Nnz6Znz56ccsoprFmzhrKyMkaNGsWcOXMqLJCZSCSC32lsZkYymaSsrIxEIhE8JmnewrPRHnrooWB7hjGbEWjMRhqZgiaktLSUb7/9ltLSUiKRCNFolG+//ZYRI0bw9ttvBwdoxuPx4PiZxgwcFyqxWIyioqIKx/CIuLC5+uqrFTaSU5r9GE24ke7QoUOF69wA/8knn8yBBx4IeI38L37xC8yMn//857Rq1Sor4zThU0BnmiZt/oSDnTt3MnHiRBYtWsQxxxzD2LFjadu2rSYkCFAxbMAbs/FfT27MZi/Kx2xeQGM20kw02RiNu13Xv/3aa68ZXn+2xWIxA+zMM8+0r776KvidDz/80Pbaay8D7LDDDgvGcOo6XpNIJDL+feHt7rYTiYSdd955Blg8HjfABg0aZCUlJfV6DFJ43Gt6/PjxBmQas/kGr7IBVTbSDDRJ0Ljb3LlzZ/Cm/PTTT23AgAF27LHHWq9evaxdu3b21ltvmZkFjfm1115rQHDmw0gkYrfeemu9HoOZ2ZYtW2z16tW2Zs0a+/rrr82sfMKBO4vntGnTDLAbbrjBvvzyS7viiisMsJkzZ5pZ+dk+RczKXw/VhM0F/vtPYSMNplmO0bgFMj/++GOOPvpoHnnkEQC+853v8MYbb/DOO++wZMkSlixZwve//32SySTFxcUsW7aMxx57jEgkQllZWXDmw9WrVwO1Gytx3W3z58/n7LPPZr/99qNXr1707NmTQw45hJ/+9Kds2rSJSCQSdKutXLkSgDPOOIOOHTsycOBAADZt2lTr+5fC56Y+X3311ZUd1LkX8CRe2GjMRgpao1Y07rY++eQTO+CAA4JusvHjx1d6X27bW2+9ZT179jTAioqKDLDjjjtujwqkrKysym4sd3vjx4+3aDRq8Xjchg8fbnfddZfdcsstdtBBBxlgRx55pK1duzb4vfnz5xtg/fr1s0cffdSOOOIIA+z999+v9LGLuMrmoYceqmzqsyobKXiNFjTudpYuXWq9evUKxjoikYhFo1H785//HOyXSqUq3K8Lji+//NJuvfVWi0aj1r17d/v444+D33G/5/bPFDbuNt955x0rKiqyrl272qJFiypcV1JSYpdffrkBdumll1a47r/+67+C8aOWLVva/fffX+HxiWTiuof/8pe/qBtNmqVGC5r0PmsXMq46GTJkiJlV3miHw2PatGn28ssvB4/P3fbq1avtzjvvtK1bt2a8Lfe3XHPNNQbYfffdZ2ZeuLgvM7N169ZZ165drbi42FasWFHhdz/88EObOnWqrVy5ssrHKxKmsJHmrMGDxgVBOCh+97vfVZi9ddZZZ1XoAqtMpkrH7b98+XL77ne/a4Bdc801ezx2t9+3335r++23n7Vu3do2bty4x32633GD/c8995yZeQ1F+v9C3WVSGzUIm6+B4f57UmEjWVHwx9GEj3Exf7A8lUpx2223AXD77bdz1llnMXny5BotkOmOcXHrn7mvv//971xyySWsX7+eoqIixo8fz4ABA7j88stJJpPEYrHgttetW8fGjRvZd9992bp1K19//XVwemjwVh7o3LkzXbp0AWDNmjXB/YfP6hmNRrXOmtSKO87mhz/8IQA/+tGP3GvIHWfTBngKGAtMQ8fZSIFosIrGdWe9++679sADD5hZeUXiKpFp06bZ+vXr63Q/rgopLS21/v37BxVSNBq1SCRiHTp0sCVLlgS37W5/0aJFQSXlf5rM+OX2+fWvf13h06hIfbn3hqts3GsWVTbSAAq2onGnX16+fDkjR45k5cqVbNmyhTvuuCPYx8wYNmzYHqcGqCk39bioqIi7776bs88+m507dwafGpPJJFu2bAnuy1Us0WiURCJBt27duPXWW4nH4xUqmmQySbt27ZgzZw4vvvgisZje55JdbupzuLJJW0FAlY0UlKxXNG7/f/zjH/ad73ynQnXwq1/9yswqHgxZ38F0d3/jxo0LqpRRo0bZqlWrgvsK7/f5559bUVGR9ejRw3bt2lVhH7PyyuWXv/ylAfbII49U2C6SLa6yefDBB6sasxnmv0f1iUfyVlaDxjXYO3futKOOOqrC7DIXNpMmTarwJsuWZDJp1113nU2YMCF4LJkCbefOnUEAvvHGG2ZmtmvXListLbXS0lIrKSmxZDJpAwYMMMAWL14c3L5ItrkPMA888IDCRgpW1oIm3LCbmd13331B37ObwnzmmWfav/71r2D/bEqfOVZWVrZHmLmff/zjHxtgP/7xj4P9w9e/+uqrwcGZbpumMUtDcWHjKptKxmwUNpK3shI04QUow2Hz4IMPWjQaDRag3LFjR7BfQwgP+rv7WLt2rT333HNBN5mZ2XvvvWft27cPuvO2bdtmJSUltnv3bpszZ47tu+++BtiMGTPMTOuYScNT2Eghq3fQuOu3b99eYSVj1zj/6U9/ssGDB9u2bdtqdHv15QLms88+sxtvvNG6d+9ugM2bN8/MvFlqZmZTp061tm3bGmBt27a1gw8+ONi3devWFWbKiTQG955x3WiVhM1Q/z2rsJG8Ua+gcW+M5cuXW69eveyGG24IfifTGElDN9ru8Tz33HPBUjFubOiyyy4LHlt4YsBvf/tbO+WUU6xv3752wgkn2J133mmffPJJsK9IY6ph2Jzrv28LduaqFJY6B43bvnz58mBwHbCf/exnZlbejRYOnYbmHtOCBQuCBTtd0HTr1s3WrVsXPLaaVmoija0GYbMNOMt/76qykSrl7WHl7sj4Dz74gDPPPJOVK1cSj8eJxWKMGzeO66+/vsKR+5nOWtkQ3LE4J554IqeffnpwqudoNMrmzZuZN28eUH6qglQqRTKZDFYtMDOSyWRWztopUlfuOJtrr72WBx54IDhVRegUAx2A5/DCRqcYkCrlbUvmGuaNGzeybt264OBJFyaffPJJhdMjN6ZEIgHABRd46xPGYjEOO+wwrr/+evr16weUB1I0GiUWiwWPOxKJEIvFFDLS5GKxGIlEgmuvvZb7778/OOg4LWwmorCRPFCrrrPwAplu+/Tp061Vq1bBci5nnHFGg88uq4q7z9WrV9vvfvc7W7hwoQ62lLzlutHuvffeyrrRvkTdaJLjahw06YETnlk2ffp0i0QiNnDgQNu+fbuZ5d5srbKysowrMIvkOoWN1Efe9M8kEgmi0SjLli3j9ttvp6SkJBh3SaVSnH/++SxatIinnnqK9u3bV+hGaypmRiKRoKysDDMjHo8Tj8fVLSZ5JxqNkkwmuemmm7j33nuD91eoG60jXjfaINSNJmnyYmpiKpUiHo/z2WefMXLkSD777DPWrl3L448/TlFREWZGKpXi+OOPr/MCmQ0hEokQj5f/i7/55htWrVoFQN++fas9JYFIrohEIhXCBuDmm29OP8VAR7wJAqOBV9BCnJJDqu06MzP75JNP7KCDDjLAiouLDbAxY8ZUOEAzfCrlpuYex44dO+yWW26xM844w3r37m2ADRw4cI/9RPJBuLu6mm60Qf77WpWN5IRqgyaVStnpp59uQLBmmQubP/zhD2aWe0u0uADZuHGjdezYMTimBrADDzzQdu/eXWE/kXwRDpt77rlHYSPVavr+pRqIRCL84he/oHv37pSVlVFcXExpaSlnnHEGY8eOBciJrrJMunTpwkEHHQQQnFdm+/btbN26tSkflkidhbvRbr75Zu65557KxmyeA85EYzbNXm62zj7zj5VJJpOcfPLJTJ06le7duwchM2XKFLp06ZKTYx2RSAQzIxaLBadkdsf1bN26NRircX+jSD5R2Eht5GTQuNAoLi4OtiUSCU444QQmTpzIxRdfzMSJE+nQoQPJZDLnQgYIJiUA9OnTh9atW3PAAQfQt29fTj31VDp27NjEj1CkflzYJBIJbr75Zu6+++5MYdMJhU2zlwstdASvT7cT8DHQPRqNWiqVihx11FHMnz+fTp06kUqlggoBCH7O1S4zIHh8O3fuZOfOnbRs2ZIWLVoEM+VECoH5sz7j8Th33303t912W1DR44VNFG/M5iLgVTQbrdnJyaDBG1yMpFIpBg4cyAsvvECHDh1ysotMRDzu/Xn//ffzk5/8JKhuzJv6rLBpxnKh1c4YNEDELTrZt29f+vTpQ2lpaV4GTXr1ko9/g0h1XNC0bNmSV199lS+//FKVjQA5HjRAsMKxiOQ9hU0zlWtB8yHQA++FFzy2aDSqKkAkj7gx1DQRvPd2HNgKjALm44WPPk0WsFxovV3QdAb+AXQhVNGISMFx7+8dwCXAHBQ2BS2X1jpLAWuAMqAUBY1IoYoACaA18DtgHbAMhU3ByqXGPALsRW49JhFpOCmgGC90vm7ixyINqD6Neqbf1cEhIpItESq2M4bamLyU7eohQnn5W5cXhKoZkeYnva1wAZPejVbZdslx9WnYo3hTE92LxK3cGr5dffoQkdoItx3tgYOAlngru3+BQqZZcC+CHngnNnoPeAdYDLwFvABcA7RJ219EpDquvegI/F9gOd7EIAO+AuYBJ6btKwXILSz2fbwBPKO8myx8LoqJoX31ghCR6rh2ogvwN8rblC14B3Jv9n9+uUkenTQqFx5H4X3CMOAeYAAwHHid8hfIKf6+Wq1VRKrj2pYHKW9DHgb2AYrwVgy5w79eClw4aL7BezGMDV0/iPIK5xJ/m4JGRKri2pXDgO147ccCoIW/PRK6VHuSXW6CRdT/Cs/0C/8cSds3/fvw7+8h2wdsHuTf0W7gE3+bJgSISFVc4/R/8CYAADwLlOBVMwnKw0jromWXpV2GVTbxwtK+r3YmYF2DJpx6PwCOBLoBQ/FeCDcDS9GRviJSPddw9fEvU8AH/vdu3FcfWLPLtc1HAwPxZvS1wPu/H4o3sWsk3sSvpXiFw7n+7ywCjvF/p7N//XF4Kz28C3xO+dJiQP0qGhc0A4HTKU+2nXj9qu3wxnEq3KGISCXa+ZdlwLdN+UCaAdd+98EbCukAfAo8APzRv+4E4Cm88far/OvaALfgBdWjwKnAvsBJeD1Z/yKLQRP+hDEDeBNoBZzs3/HP8ZLuR3W8fRFpflzvR5TcWoexkMXwCoI4XjVyJvBX/zqj/FjJuP99a2AlsBCvfd+J98GgSvV5Ml3QPA88jffiKMILnkHACLy58KtRF5qIVM59ut7sXxbhfUqGim2HG6dRW1J/rv3+CK+aWQOsBSYAu/zrFuJ1ib0BTAIG41Wak4Dv4h3GYnhdZ1vwio3VabdfJ5lmnV3hbyv2L3/vb/8WOCLt90RE0rmZZCMo7y15NHRdDB2Pl8uy/tyEg+ZrvBfE9XiVUUe8sZpV/vb3gLYN9UBEpGCEVwT4B+UfVN0hEq7d6Q/cgNqTbMo0fbmq69KnP0fTvs/Kc+Nu9Bi8qYeGd/KiDcCm0LYUcGna74iIVMa1E2MoPxZvN/AS8Be8LnkD3karjhQ89wQfhBcuSbyBoJT/tQ6YjdeXB3ohiEjNufbiUsp7RlzbYni9KD9J21fyQH2erAPxTlQWXrF5K14AuZ81rVlEasO1G13wlrY6xN+2Em/x3jVN99Akl2iZCBGpj6q621XJ5KH6no8mnY7gFZFsCK+jBeVti6Y2i4iIiIiIiIiIiIiIiIiIiIiIiIiIiIiIiIiIiIiIiIiIiIiIiIiIiIiIiIiIiIiIVO7/Axv4rCDVh9akAAAAAElFTkSuQmCC)"
      ],
      "metadata": {
        "id": "Yts47Db4KzOT"
      }
    },
    {
      "cell_type": "code",
      "execution_count": 1,
      "metadata": {
        "colab": {
          "base_uri": "https://localhost:8080/"
        },
        "id": "d6lDmfidKpPg",
        "outputId": "e70fc3f1-a254-4c83-ca8e-f164f6c50aa0"
      },
      "outputs": [
        {
          "output_type": "stream",
          "name": "stdout",
          "text": [
            "10\n",
            "10\n",
            "45°\n"
          ]
        }
      ],
      "source": [
        "import math\n",
        "AB = int(input())\n",
        "BC = int(input())\n",
        "if(0<AB and AB<=100) or (0<BC and BC<=100):\n",
        "    H = math.sqrt(AB**2 + BC**2)\n",
        "    H = H/2.0\n",
        "    a = BC/2.0\n",
        "    angle = int(round(math.degrees(math.acos(a/H))))\n",
        "deg = u'\\N{DEGREE SIGN}'\n",
        "print(angle,deg,sep=\"\")"
      ]
    },
    {
      "cell_type": "code",
      "source": [
        ""
      ],
      "metadata": {
        "id": "-nJKTBc_KvhX"
      },
      "execution_count": null,
      "outputs": []
    }
  ]
}