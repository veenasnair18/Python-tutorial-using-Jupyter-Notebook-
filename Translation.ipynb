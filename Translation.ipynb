{
  "nbformat": 4,
  "nbformat_minor": 0,
  "metadata": {
    "colab": {
      "name": "Translation.ipynb",
      "provenance": []
    },
    "kernelspec": {
      "name": "python3",
      "display_name": "Python 3"
    }
  },
  "cells": [
    {
      "cell_type": "code",
      "metadata": {
        "id": "x0ysuMMfO-JK",
        "colab_type": "code",
        "colab": {}
      },
      "source": [
        "!pip install translate # installing the package in colab"
      ],
      "execution_count": null,
      "outputs": []
    },
    {
      "cell_type": "code",
      "metadata": {
        "id": "xM_CpRHmPDwZ",
        "colab_type": "code",
        "colab": {}
      },
      "source": [
        "from translate import Translator"
      ],
      "execution_count": 3,
      "outputs": []
    },
    {
      "cell_type": "code",
      "metadata": {
        "id": "bxlIZybQPhS3",
        "colab_type": "code",
        "colab": {
          "base_uri": "https://localhost:8080/",
          "height": 34
        },
        "outputId": "38207f21-8a52-4b6e-8c35-f68ef804580b"
      },
      "source": [
        "tr=Translator(to_lang=\"Korean\")\n",
        "t=tr.translate(\"The joy of coding Python should be in seeing short, concise, readable classes that express a lot of action in a small amount of clear code not in reams of trivial code that bores the reader to death.\")\n",
        "print(t)"
      ],
      "execution_count": 6,
      "outputs": [
        {
          "output_type": "stream",
          "text": [
            "파이썬을 코딩하는 기쁨은 독자를 죽일 지루한 사소한 코드가 아닌 소량의 명확한 코드로 많은 행동을 나타내는 짧고 간결하며 읽기 쉬운 클래스를 보는 것이어야합니다.\n"
          ],
          "name": "stdout"
        }
      ]
    },
    {
      "cell_type": "code",
      "metadata": {
        "id": "7PpNowY8Qxv9",
        "colab_type": "code",
        "colab": {
          "base_uri": "https://localhost:8080/",
          "height": 34
        },
        "outputId": "65549cde-288f-46fe-f342-afa1a54ffc16"
      },
      "source": [
        "t=Translator(from_lang=\"korean\",to_lang=\"English\")\n",
        "T=t.translate(\"자신을 제한하지 마십시오.\")\n",
        "print(T)"
      ],
      "execution_count": 8,
      "outputs": [
        {
          "output_type": "stream",
          "text": [
            "Do not limit yourself.\n"
          ],
          "name": "stdout"
        }
      ]
    }
  ]
}