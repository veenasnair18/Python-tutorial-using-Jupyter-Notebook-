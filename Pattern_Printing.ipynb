{
  "nbformat": 4,
  "nbformat_minor": 0,
  "metadata": {
    "colab": {
      "name": "Pattern Printing.ipynb",
      "provenance": [],
      "authorship_tag": "ABX9TyNi4RNxyM/cD5J4evll7Ha4",
      "include_colab_link": true
    },
    "kernelspec": {
      "name": "python3",
      "display_name": "Python 3"
    },
    "language_info": {
      "name": "python"
    }
  },
  "cells": [
    {
      "cell_type": "markdown",
      "metadata": {
        "id": "view-in-github",
        "colab_type": "text"
      },
      "source": [
        "<a href=\"https://colab.research.google.com/github/veenasnair18/Python-tutorial-using-Jupyter-Notebook-/blob/master/Pattern_Printing.ipynb\" target=\"_parent\"><img src=\"https://colab.research.google.com/assets/colab-badge.svg\" alt=\"Open In Colab\"/></a>"
      ]
    },
    {
      "cell_type": "code",
      "metadata": {
        "colab": {
          "base_uri": "https://localhost:8080/"
        },
        "id": "ZkcTSRY5mDcx",
        "outputId": "9e0e092f-7f3e-4db9-8f5b-2e3b2c16af55"
      },
      "source": [
        "#Simple pyramid\n",
        "n=int(input(\"Enter the rows\"))\n",
        "for i in range(0,n):\n",
        "  for j in range(0,i+1):\n",
        "    print(\"* \",end=\"\")\n",
        "  print(\"\\r\")\n"
      ],
      "execution_count": 12,
      "outputs": [
        {
          "output_type": "stream",
          "text": [
            "Enter the rows5\n",
            "* \n",
            "* * \n",
            "* * * \n",
            "* * * * \n",
            "* * * * * \n"
          ],
          "name": "stdout"
        }
      ]
    },
    {
      "cell_type": "code",
      "metadata": {
        "colab": {
          "base_uri": "https://localhost:8080/"
        },
        "id": "7rKgIH3vmVJI",
        "outputId": "a9ade921-04ca-4f79-c991-c76e35dc2bb1"
      },
      "source": [
        "#Simple Pyramid using List\n",
        "n=int(input(\"Enter rows?\"))\n",
        "pattern = []\n",
        "for i in range(1,n+1):\n",
        "  pattern.append(\"*\"*i)\n",
        "print(\"\\n\".join(pattern))"
      ],
      "execution_count": 18,
      "outputs": [
        {
          "output_type": "stream",
          "text": [
            "Enter rows?5\n",
            "*\n",
            "**\n",
            "***\n",
            "****\n",
            "*****\n"
          ],
          "name": "stdout"
        }
      ]
    },
    {
      "cell_type": "code",
      "metadata": {
        "colab": {
          "base_uri": "https://localhost:8080/"
        },
        "id": "-2YijOfRoMMM",
        "outputId": "37a01294-321d-4772-aab4-0f905f80f7a6"
      },
      "source": [
        "#opposite sided pyramid\n",
        "n=int(input(\"Enter rows?\"))\n",
        "t = 2*n - 2\n",
        "for i in range(0, n):\n",
        "  for j in range(0, t):\n",
        "    print(end=\" \")\n",
        "  t -= 2\n",
        "  for j in range(0, i+1):\n",
        "    print(\"* \", end=\"\")\n",
        "  print(\"\\r\")"
      ],
      "execution_count": 25,
      "outputs": [
        {
          "output_type": "stream",
          "text": [
            "Enter rows?10\n",
            "                  * \n",
            "                * * \n",
            "              * * * \n",
            "            * * * * \n",
            "          * * * * * \n",
            "        * * * * * * \n",
            "      * * * * * * * \n",
            "    * * * * * * * * \n",
            "  * * * * * * * * * \n",
            "* * * * * * * * * * \n"
          ],
          "name": "stdout"
        }
      ]
    },
    {
      "cell_type": "code",
      "metadata": {
        "colab": {
          "base_uri": "https://localhost:8080/"
        },
        "id": "I3e30WN0pQxf",
        "outputId": "485cc216-6526-4dd4-cdee-b3998b6f8e5d"
      },
      "source": [
        "n=int(input(\"Enter number of rows?\"))\n",
        "t = n - 1\n",
        "for i in range(0, n):\n",
        "  for j in range(0, t):\n",
        "    print(end=\" \")\n",
        "  t-=1\n",
        "  for j in range(0, i+1):\n",
        "    print(\"* \", end=\"\")\n",
        "  print(\"\\r\")\n",
        " \n"
      ],
      "execution_count": 29,
      "outputs": [
        {
          "output_type": "stream",
          "text": [
            "         * \r\n",
            "        * * \r\n",
            "       * * * \r\n",
            "      * * * * \r\n",
            "     * * * * * \r\n",
            "    * * * * * * \r\n",
            "   * * * * * * * \r\n",
            "  * * * * * * * * \r\n",
            " * * * * * * * * * \r\n",
            "* * * * * * * * * * \r\n"
          ],
          "name": "stdout"
        }
      ]
    },
    {
      "cell_type": "code",
      "metadata": {
        "id": "saB3GbsbqBo6"
      },
      "source": [
        ""
      ],
      "execution_count": null,
      "outputs": []
    }
  ]
}