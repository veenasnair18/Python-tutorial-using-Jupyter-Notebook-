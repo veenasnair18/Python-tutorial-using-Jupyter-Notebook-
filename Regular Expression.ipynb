{
 "cells": [
  {
   "cell_type": "markdown",
   "metadata": {},
   "source": [
    "# Regular Expression\n",
    "A RegEx, or Regular Expression, is a sequence of characters that forms a search pattern.RegEx can be used to check if a string contains the specified search pattern.For more information:https://docs.python.org/3.4/library/re.html"
   ]
  },
  {
   "cell_type": "code",
   "execution_count": 1,
   "metadata": {},
   "outputs": [],
   "source": [
    "import re # importing regular expression library\n",
    "#re.findall()-extracts a portion of string that matches the pattern\n",
    "#re.search()-to see if a string matches a pattern"
   ]
  },
  {
   "cell_type": "markdown",
   "metadata": {},
   "source": [
    "### ^\tMatches the beginning of a line\n",
    "###  dollarsign \tMatches the end of the line\n",
    "### .\tMatches any character\n",
    "### \\s\tMatches whitespace\n",
    "### \\S\tMatches any non-whitespace character\n",
    "### *\tRepeats a character zero or more times\n",
    "### *?\tRepeats a character zero or more times (non-greedy)\n",
    "### +\tRepeats a character one or more times\n",
    "### +?\tRepeats a character one or more times (non-greedy)\n",
    "### [aeiou]\tMatches a single character in the listed set\n",
    "### [^XYZ]\tMatches a single character not in the listed set\n",
    "### [a-z0-9]\tThe set of characters can include a range\n",
    "### (\tIndicates where string extraction is to start\n",
    "### )\tIndicates where string extraction is to end"
   ]
  },
  {
   "cell_type": "code",
   "execution_count": 6,
   "metadata": {},
   "outputs": [],
   "source": [
    "import re"
   ]
  },
  {
   "cell_type": "code",
   "execution_count": 8,
   "metadata": {},
   "outputs": [
    {
     "name": "stdout",
     "output_type": "stream",
     "text": [
      "['9', '13']\n"
     ]
    }
   ],
   "source": [
    "x='My favourite numbers are 9 and 13'\n",
    "y=re.findall('[0-9]+',x)   #extracts data\n",
    "print(y)"
   ]
  },
  {
   "cell_type": "markdown",
   "metadata": {},
   "source": [
    "## Greedy matching"
   ]
  },
  {
   "cell_type": "code",
   "execution_count": 24,
   "metadata": {},
   "outputs": [
    {
     "name": "stdout",
     "output_type": "stream",
     "text": [
      "['from: using the :']\n"
     ]
    }
   ],
   "source": [
    "x=\"from: using the : character\"\n",
    "y=re.findall('^f.+:',x)\n",
    "print(y)                     # * and + are greedy ie it tries to match the largest possible string"
   ]
  },
  {
   "cell_type": "markdown",
   "metadata": {},
   "source": [
    "# Non Greedy Matching"
   ]
  },
  {
   "cell_type": "code",
   "execution_count": 31,
   "metadata": {},
   "outputs": [
    {
     "name": "stdout",
     "output_type": "stream",
     "text": [
      "['from: ']\n"
     ]
    }
   ],
   "source": [
    "print(re.findall('^f.+?: ',x))"
   ]
  },
  {
   "cell_type": "markdown",
   "metadata": {},
   "source": [
    "### Fine Tuning"
   ]
  },
  {
   "cell_type": "code",
   "execution_count": 32,
   "metadata": {},
   "outputs": [
    {
     "name": "stdout",
     "output_type": "stream",
     "text": [
      "['qmoody@miller.biz']\n"
     ]
    }
   ],
   "source": [
    "q=\"qmoody@miller.biz 1987-04-09 11:58:21 \"\n",
    "print(re.findall(\"\\S+@\\S+\",q))"
   ]
  },
  {
   "cell_type": "code",
   "execution_count": 33,
   "metadata": {},
   "outputs": [
    {
     "name": "stdout",
     "output_type": "stream",
     "text": [
      "6\n"
     ]
    }
   ],
   "source": [
    "print(q.find('@'))"
   ]
  },
  {
   "cell_type": "code",
   "execution_count": 34,
   "metadata": {},
   "outputs": [
    {
     "name": "stdout",
     "output_type": "stream",
     "text": [
      "moody@m\n"
     ]
    }
   ],
   "source": [
    "print(q[1:8])"
   ]
  }
 ],
 "metadata": {
  "kernelspec": {
   "display_name": "Python 3",
   "language": "python",
   "name": "python3"
  },
  "language_info": {
   "codemirror_mode": {
    "name": "ipython",
    "version": 3
   },
   "file_extension": ".py",
   "mimetype": "text/x-python",
   "name": "python",
   "nbconvert_exporter": "python",
   "pygments_lexer": "ipython3",
   "version": "3.7.3"
  }
 },
 "nbformat": 4,
 "nbformat_minor": 4
}
