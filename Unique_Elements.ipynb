{
  "nbformat": 4,
  "nbformat_minor": 0,
  "metadata": {
    "colab": {
      "name": "Unique Elements.ipynb",
      "provenance": [],
      "authorship_tag": "ABX9TyPA6XYS+BgU0MNlMc2si126",
      "include_colab_link": true
    },
    "kernelspec": {
      "name": "python3",
      "display_name": "Python 3"
    },
    "language_info": {
      "name": "python"
    }
  },
  "cells": [
    {
      "cell_type": "markdown",
      "metadata": {
        "id": "view-in-github",
        "colab_type": "text"
      },
      "source": [
        "<a href=\"https://colab.research.google.com/github/veenasnair18/Python-tutorial-using-Jupyter-Notebook-/blob/master/Unique_Elements.ipynb\" target=\"_parent\"><img src=\"https://colab.research.google.com/assets/colab-badge.svg\" alt=\"Open In Colab\"/></a>"
      ]
    },
    {
      "cell_type": "markdown",
      "source": [
        "You need to find the distinct elements of an array and return the number of unique elements"
      ],
      "metadata": {
        "id": "xzOC7qeZLG5W"
      }
    },
    {
      "cell_type": "code",
      "execution_count": 1,
      "metadata": {
        "colab": {
          "base_uri": "https://localhost:8080/"
        },
        "id": "A9o7-tw0LFv4",
        "outputId": "50c04d02-7f8a-4d8c-d70b-f32953f4bbca"
      },
      "outputs": [
        {
          "output_type": "stream",
          "name": "stdout",
          "text": [
            "6\n"
          ]
        }
      ],
      "source": [
        "a = [12,14,12,14,16,17,21,24]\n",
        "b = set(a)\n",
        "print(len(b))"
      ]
    },
    {
      "cell_type": "code",
      "source": [
        "#using a function\n",
        "def CountUnique(arr):\n",
        "  return (len(set(arr)))\n",
        "arr = [12,14,1,2,12,12,12,17,1,18]\n",
        "print(CountUnique(arr))"
      ],
      "metadata": {
        "colab": {
          "base_uri": "https://localhost:8080/"
        },
        "id": "eJbVT-weLol_",
        "outputId": "391461a0-55a1-48bd-85b7-1c47c044d822"
      },
      "execution_count": 3,
      "outputs": [
        {
          "output_type": "stream",
          "name": "stdout",
          "text": [
            "6\n"
          ]
        }
      ]
    },
    {
      "cell_type": "code",
      "source": [
        ""
      ],
      "metadata": {
        "id": "5z60H2HoMIdj"
      },
      "execution_count": null,
      "outputs": []
    }
  ]
}