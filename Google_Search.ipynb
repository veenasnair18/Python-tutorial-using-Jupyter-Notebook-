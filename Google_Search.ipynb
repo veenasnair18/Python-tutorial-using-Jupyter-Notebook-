{
  "nbformat": 4,
  "nbformat_minor": 0,
  "metadata": {
    "colab": {
      "name": "Google Search.ipynb",
      "provenance": []
    },
    "kernelspec": {
      "name": "python3",
      "display_name": "Python 3"
    }
  },
  "cells": [
    {
      "cell_type": "code",
      "metadata": {
        "id": "mfGEkiVXxbOa",
        "colab_type": "code",
        "colab": {}
      },
      "source": [
        "pip install google"
      ],
      "execution_count": null,
      "outputs": []
    },
    {
      "cell_type": "code",
      "metadata": {
        "id": "gbN6bmmaxiii",
        "colab_type": "code",
        "colab": {
          "base_uri": "https://localhost:8080/",
          "height": 102
        },
        "outputId": "c25a2265-8920-4184-b65c-29eefaf520c4"
      },
      "source": [
        "from googlesearch import search \n",
        "query = \"Python\"\n",
        "for j in search(query,tld=\"co.in\",num=5,stop=5,pause=1):\n",
        "  print(j)"
      ],
      "execution_count": 6,
      "outputs": [
        {
          "output_type": "stream",
          "text": [
            "https://www.python.org/\n",
            "https://www.python.org/community/logos/\n",
            "https://en.wikipedia.org/wiki/Python_(programming_language)\n",
            "https://www.w3schools.com/python/\n",
            "https://www.codecademy.com/learn/learn-python\n"
          ],
          "name": "stdout"
        }
      ]
    },
    {
      "cell_type": "markdown",
      "metadata": {
        "id": "50KFNDmyzVux",
        "colab_type": "text"
      },
      "source": [
        "* **query**= what we want to search for\n",
        "* **tld**=***Top Level Domain*** i.e where we want to search our result.Is it on google.com/.in\n",
        "* **num**=Number of results we want\n",
        "* **stop**=last result to retrieve.Use **None** to keep searching forever.\n",
        "* **pause**=Lapse to wait between HTTP requests.\n",
        "\n",
        "\n",
        "\n",
        "\n",
        "\n"
      ]
    }
  ]
}