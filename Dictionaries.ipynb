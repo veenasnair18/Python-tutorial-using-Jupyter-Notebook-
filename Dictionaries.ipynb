{
 "cells": [
  {
   "cell_type": "markdown",
   "metadata": {},
   "source": [
    "# Dictionaries\n",
    "* A Bag of values,each with its own labels\n",
    "* Similar to list except that they use keys instead of indexes to look up a value"
   ]
  },
  {
   "cell_type": "code",
   "execution_count": 2,
   "metadata": {
    "collapsed": false
   },
   "outputs": [
    {
     "name": "stdout",
     "output_type": "stream",
     "text": [
      "{'Blue': 3, 'Pink': 9, 'Black': 1}\n",
      "{'purple': 34, 'green': 78, 'red': 45}\n",
      "1\n",
      "34\n"
     ]
    }
   ],
   "source": [
    "d=dict()  # 1st method to declare dict\n",
    "s={'red':45,'green':78,'purple':34}\n",
    "d['Black']=1\n",
    "d['Blue']=3\n",
    "d['Pink']=9\n",
    "print(d)\n",
    "print(s)\n",
    "print(d['Black'])\n",
    "print(s['purple'])"
   ]
  },
  {
   "cell_type": "code",
   "execution_count": 3,
   "metadata": {
    "collapsed": false
   },
   "outputs": [
    {
     "name": "stdout",
     "output_type": "stream",
     "text": [
      "{'Blue': 3, 'Pink': 76, 'Black': 1}\n"
     ]
    }
   ],
   "source": [
    "d['Pink']+=67\n",
    "print(d)"
   ]
  },
  {
   "cell_type": "markdown",
   "metadata": {},
   "source": [
    "Most common use of dictionary is counting"
   ]
  },
  {
   "cell_type": "code",
   "execution_count": 4,
   "metadata": {
    "collapsed": false
   },
   "outputs": [
    {
     "data": {
      "text/plain": [
       "False"
      ]
     },
     "execution_count": 4,
     "metadata": {},
     "output_type": "execute_result"
    }
   ],
   "source": [
    "'pink' in s"
   ]
  },
  {
   "cell_type": "code",
   "execution_count": 5,
   "metadata": {
    "collapsed": false
   },
   "outputs": [
    {
     "data": {
      "text/plain": [
       "True"
      ]
     },
     "execution_count": 5,
     "metadata": {},
     "output_type": "execute_result"
    }
   ],
   "source": [
    "'red' in s"
   ]
  },
  {
   "cell_type": "code",
   "execution_count": 6,
   "metadata": {
    "collapsed": false
   },
   "outputs": [
    {
     "name": "stdout",
     "output_type": "stream",
     "text": [
      "['purple', 'green', 'red']\n"
     ]
    }
   ],
   "source": [
    "print(s.keys())"
   ]
  },
  {
   "cell_type": "code",
   "execution_count": 9,
   "metadata": {
    "collapsed": false
   },
   "outputs": [
    {
     "name": "stdout",
     "output_type": "stream",
     "text": [
      "[('purple', 34), ('green', 78), ('red', 45)]\n",
      "[3, 76, 1]\n"
     ]
    }
   ],
   "source": [
    "print(s.items())\n",
    "print(d.values())"
   ]
  },
  {
   "cell_type": "code",
   "execution_count": 10,
   "metadata": {
    "collapsed": false
   },
   "outputs": [
    {
     "name": "stdout",
     "output_type": "stream",
     "text": [
      "('purple', 34)\n",
      "('green', 78)\n",
      "('red', 45)\n"
     ]
    }
   ],
   "source": [
    "for aa,bb in s.items():\n",
    "    print(aa,bb)           ## aa->key bb->value"
   ]
  },
  {
   "cell_type": "markdown",
   "metadata": {},
   "source": [
    "##### A Sample counting program"
   ]
  },
  {
   "cell_type": "code",
   "execution_count": 18,
   "metadata": {
    "collapsed": false
   },
   "outputs": [
    {
     "name": "stdout",
     "output_type": "stream",
     "text": [
      "{'aa': 3, 'cc': 1, 'dd': 1, 'bb': 1}\n"
     ]
    }
   ],
   "source": [
    "c=dict()\n",
    "names=['aa','bb','aa','cc','aa','dd']\n",
    "for name in names:\n",
    "    if name not in c:\n",
    "        c[name]=1\n",
    "    else:\n",
    "        c[name]+=1\n",
    "print(c) "
   ]
  },
  {
   "cell_type": "code",
   "execution_count": 22,
   "metadata": {
    "collapsed": false
   },
   "outputs": [
    {
     "name": "stdout",
     "output_type": "stream",
     "text": [
      "0\n"
     ]
    }
   ],
   "source": [
    "c=dict()\n",
    "names=['aa','bb','aa','cc','aa','dd']\n",
    "if name in c:\n",
    "    x=c[name]\n",
    "else:\n",
    "    x=0\n",
    "x=c.get(name,0)\n",
    "print(x)"
   ]
  },
  {
   "cell_type": "code",
   "execution_count": 20,
   "metadata": {
    "collapsed": false
   },
   "outputs": [
    {
     "name": "stdout",
     "output_type": "stream",
     "text": [
      "{'aa': 3, 'cc': 1, 'dd': 1, 'bb': 1}\n"
     ]
    }
   ],
   "source": [
    "c=dict()\n",
    "names=['aa','bb','aa','cc','aa','dd']\n",
    "for name in names:\n",
    "    c[name]=c.get(name,0)+1\n",
    "print(c)"
   ]
  },
  {
   "cell_type": "code",
   "execution_count": null,
   "metadata": {
    "collapsed": true
   },
   "outputs": [],
   "source": []
  }
 ],
 "metadata": {
  "kernelspec": {
   "display_name": "Python 2",
   "language": "python",
   "name": "python2"
  },
  "language_info": {
   "codemirror_mode": {
    "name": "ipython",
    "version": 2
   },
   "file_extension": ".py",
   "mimetype": "text/x-python",
   "name": "python",
   "nbconvert_exporter": "python",
   "pygments_lexer": "ipython2",
   "version": "2.7.13"
  }
 },
 "nbformat": 4,
 "nbformat_minor": 0
}
