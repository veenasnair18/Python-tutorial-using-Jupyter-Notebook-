{
 "cells": [
  {
   "cell_type": "markdown",
   "metadata": {},
   "source": [
    "# Create a Decision tree classifier in sci-kit learn using the Data given below,\n",
    "\n",
    "features = [[2,100],[6,25],[1,300],[1,1000],[4,100],[10,100]]\n",
    "\n",
    "Label = [1,2,1,1,2,2]\n",
    "\n",
    "Note : 1 - Sports/Race Car and 2 - Family Car"
   ]
  },
  {
   "cell_type": "code",
   "execution_count": 1,
   "metadata": {},
   "outputs": [
    {
     "name": "stdout",
     "output_type": "stream",
     "text": [
      "[1]\n"
     ]
    }
   ],
   "source": [
    "import sklearn\n",
    "from sklearn import tree\n",
    "features = [[2,100],[6,25],[1,300],[1,1000],[4,100],[10,100]]\n",
    "\n",
    "Label = [1,2,1,1,2,2]\n",
    "car_type=tree.DecisionTreeClassifier()\n",
    "car_type=car_type.fit(features,Label)\n",
    "print(car_type.predict([[2,300]]))"
   ]
  },
  {
   "cell_type": "code",
   "execution_count": null,
   "metadata": {},
   "outputs": [],
   "source": []
  }
 ],
 "metadata": {
  "kernelspec": {
   "display_name": "Python 3",
   "language": "python",
   "name": "python3"
  },
  "language_info": {
   "codemirror_mode": {
    "name": "ipython",
    "version": 3
   },
   "file_extension": ".py",
   "mimetype": "text/x-python",
   "name": "python",
   "nbconvert_exporter": "python",
   "pygments_lexer": "ipython3",
   "version": "3.8.5"
  }
 },
 "nbformat": 4,
 "nbformat_minor": 4
}
