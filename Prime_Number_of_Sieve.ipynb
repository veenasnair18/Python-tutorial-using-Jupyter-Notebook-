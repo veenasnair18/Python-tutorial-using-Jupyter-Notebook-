{
  "nbformat": 4,
  "nbformat_minor": 0,
  "metadata": {
    "colab": {
      "name": "Prime Number of Sieve.ipynb",
      "provenance": [],
      "authorship_tag": "ABX9TyPRkd/nq02SsnZjk3VXGVmd",
      "include_colab_link": true
    },
    "kernelspec": {
      "name": "python3",
      "display_name": "Python 3"
    },
    "language_info": {
      "name": "python"
    }
  },
  "cells": [
    {
      "cell_type": "markdown",
      "metadata": {
        "id": "view-in-github",
        "colab_type": "text"
      },
      "source": [
        "<a href=\"https://colab.research.google.com/github/veenasnair18/Python-tutorial-using-Jupyter-Notebook-/blob/master/Prime_Number_of_Sieve.ipynb\" target=\"_parent\"><img src=\"https://colab.research.google.com/assets/colab-badge.svg\" alt=\"Open In Colab\"/></a>"
      ]
    },
    {
      "cell_type": "markdown",
      "metadata": {
        "id": "6e_st9qdTX19"
      },
      "source": [
        "The **Sieve of Eratosthenes** is an ancient algorithm for finding all prime numbers up to any given limit."
      ]
    },
    {
      "cell_type": "code",
      "metadata": {
        "id": "b9373PFXTeV0"
      },
      "source": [
        "import math"
      ],
      "execution_count": 1,
      "outputs": []
    },
    {
      "cell_type": "code",
      "metadata": {
        "colab": {
          "base_uri": "https://localhost:8080/"
        },
        "id": "scBl0xrIUOKH",
        "outputId": "4d66c15d-875c-49b9-c8cb-fd8126df400b"
      },
      "source": [
        "p=int(input(\"Enter a Number?\"))\n",
        "primes=[]\n",
        "for i in range(2,p):\n",
        "  primes.append(i)\n",
        "n=2\n",
        "while(n <= int(math.sqrt(p))):\n",
        "    if n in primes:\n",
        "        for j in range(n*2, p+1, n):\n",
        "            if j in primes:\n",
        "                primes.remove(j)\n",
        "    n+=1\n",
        "\n",
        "print (primes)"
      ],
      "execution_count": 4,
      "outputs": [
        {
          "output_type": "stream",
          "text": [
            "Enter a Number?10\n",
            "[2, 3, 5, 7]\n"
          ],
          "name": "stdout"
        }
      ]
    },
    {
      "cell_type": "code",
      "metadata": {
        "id": "9AdGMapeYlCV"
      },
      "source": [
        ""
      ],
      "execution_count": null,
      "outputs": []
    }
  ]
}