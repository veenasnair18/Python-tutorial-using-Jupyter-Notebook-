{
 "cells": [
  {
   "cell_type": "code",
   "execution_count": 6,
   "metadata": {},
   "outputs": [],
   "source": [
    "import bs4"
   ]
  },
  {
   "cell_type": "code",
   "execution_count": 8,
   "metadata": {},
   "outputs": [],
   "source": [
    "from bs4 import BeautifulSoup as bs\n",
    "from urllib.request import urlopen"
   ]
  },
  {
   "cell_type": "code",
   "execution_count": 9,
   "metadata": {},
   "outputs": [
    {
     "name": "stdout",
     "output_type": "stream",
     "text": [
      "In Kerala, students' wings of  CPM and Congress join hands to buy TV for a poor student\n",
      "https://www.onmanorama.com/news/kerala/2020/06/21/kerala-student-unions-sfi-ksu-joins-hands-to-buy-tv-for-poor-student-malappuram.html\n",
      "Sun, 21 Jun 2020 09:16:45 GMT\n",
      "------------------------------------------------------------\n",
      "South Indian actress Usharani passes away\n",
      "https://www.onmanorama.com/news/kerala/2020/06/21/usharani-south-indian-actress-passes-away.html\n",
      "Sun, 21 Jun 2020 05:37:30 GMT\n",
      "------------------------------------------------------------\n",
      "Kerala catches a glimpse of first solar eclipse of the decade\n",
      "https://www.onmanorama.com/news/kerala/2020/06/21/kerala-solar-eclipse-june-21-2020.html\n",
      "Sun, 21 Jun 2020 07:20:10 GMT\n",
      "------------------------------------------------------------\n",
      "Pinarayi slams Mullappally for 'COVID queen' remark against minister Shailaja\n",
      "https://www.onmanorama.com/news/kerala/2020/06/20/pinarayi-vijayan-mullappally-covid-queen-remark-shailaja.html\n",
      "Sat, 20 Jun 2020 16:41:38 GMT\n",
      "------------------------------------------------------------\n",
      "Podcast | All you need to know about Athirappilly power project & impact on biodiversity\n",
      "https://www.onmanorama.com/news/kerala/2020/06/20/athirappilly-power-project-biodiversity-dr-tv-sajeev-all-you-need-to-know.html\n",
      "Sun, 21 Jun 2020 02:23:57 GMT\n",
      "------------------------------------------------------------\n",
      "British journalist Spinney responds to Mullappally's remarks on Kerala minister Shailaja\n",
      "https://www.onmanorama.com/news/kerala/2020/06/20/guardian-writer-spinney-mullappally-ramachandran-health-minister-shailaja.html\n",
      "Sat, 20 Jun 2020 13:26:33 GMT\n",
      "------------------------------------------------------------\n",
      "COVID-19: 3 new hotspots in Kerala, 111 in total\n",
      "https://www.onmanorama.com/news/kerala/2020/06/12/covid19-coronavirus-hotspots-in-kerala-daily-update.html\n",
      "Sat, 20 Jun 2020 14:04:25 GMT\n",
      "------------------------------------------------------------\n",
      "Keralite dies of COVID-19 in Delhi\n",
      "https://www.onmanorama.com/news/kerala/2020/06/20/keralites-die-covid19-coronavirus-other-states.html\n",
      "Sat, 20 Jun 2020 11:50:58 GMT\n",
      "------------------------------------------------------------\n",
      "Kochi cop, Pathanamthitta health worker among 127 COVID cases in Kerala on Saturday\n",
      "https://www.onmanorama.com/news/kerala/2020/06/20/coronavirus-covid19-kerala-govt-pinarayi-vijayan-shailaja-health-dept.html\n",
      "Sat, 20 Jun 2020 14:42:23 GMT\n",
      "------------------------------------------------------------\n",
      "Heightened vigil in Thiruvananthapuram after auto driver tests positive for COVID-19\n",
      "https://www.onmanorama.com/news/kerala/2020/06/20/thiruvananthapuram-auto-driver-tests-positive-contact-tracing.html\n",
      "Sat, 20 Jun 2020 09:04:21 GMT\n",
      "------------------------------------------------------------\n",
      "Over 60 COVID-19 cases in Kerala have no known source of infection, reports claim\n",
      "https://www.onmanorama.com/news/kerala/2020/06/20/kerala-covid-19-cases-with-no-known-source-of-infection.html\n",
      "Sat, 20 Jun 2020 04:27:38 GMT\n",
      "------------------------------------------------------------\n"
     ]
    }
   ],
   "source": [
    "news_url=\"https://www.onmanorama.com/news/kerala.rss.html\"\n",
    "r=urlopen(news_url)\n",
    "xml_page=r.read()\n",
    "r.close()\n",
    "bs_page=bs(xml_page,\"xml\")\n",
    "news_list=bs_page.findAll(\"item\")\n",
    "for news in news_list:\n",
    "    print(news.title.text)\n",
    "    print(news.link.text)\n",
    "    print(news.pubDate.text)\n",
    "    print(\"-\"*60)"
   ]
  }
 ],
 "metadata": {
  "kernelspec": {
   "display_name": "Python 3",
   "language": "python",
   "name": "python3"
  },
  "language_info": {
   "codemirror_mode": {
    "name": "ipython",
    "version": 3
   },
   "file_extension": ".py",
   "mimetype": "text/x-python",
   "name": "python",
   "nbconvert_exporter": "python",
   "pygments_lexer": "ipython3",
   "version": "3.7.3"
  }
 },
 "nbformat": 4,
 "nbformat_minor": 4
}
