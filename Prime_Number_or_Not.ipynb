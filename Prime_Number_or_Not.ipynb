{
  "nbformat": 4,
  "nbformat_minor": 0,
  "metadata": {
    "colab": {
      "name": "Prime Number or Not.ipynb",
      "provenance": [],
      "authorship_tag": "ABX9TyMxvz8hi+sxmwO8jyrls9iJ",
      "include_colab_link": true
    },
    "kernelspec": {
      "name": "python3",
      "display_name": "Python 3"
    },
    "language_info": {
      "name": "python"
    }
  },
  "cells": [
    {
      "cell_type": "markdown",
      "metadata": {
        "id": "view-in-github",
        "colab_type": "text"
      },
      "source": [
        "<a href=\"https://colab.research.google.com/github/veenasnair18/Python-tutorial-using-Jupyter-Notebook-/blob/master/Prime_Number_or_Not.ipynb\" target=\"_parent\"><img src=\"https://colab.research.google.com/assets/colab-badge.svg\" alt=\"Open In Colab\"/></a>"
      ]
    },
    {
      "cell_type": "code",
      "metadata": {
        "colab": {
          "base_uri": "https://localhost:8080/"
        },
        "id": "f4U-05XJR9eu",
        "outputId": "ebf34f6b-f65a-45c9-eb86-735a0c0d6499"
      },
      "source": [
        "a=int(input(\"Enter a number?\"))\n",
        "if (a<=1):\n",
        "    print(\"Invalid\")\n",
        "else:\n",
        "    for i in range(2,a):\n",
        "        if(a%i==0):\n",
        "            print(\"Not a prime!\")\n",
        "    print(\"Prime!!\")"
      ],
      "execution_count": 3,
      "outputs": [
        {
          "output_type": "stream",
          "text": [
            "Enter a number?13\n",
            "Prime!!\n"
          ],
          "name": "stdout"
        }
      ]
    },
    {
      "cell_type": "code",
      "metadata": {
        "id": "-rV1uipxSO0d"
      },
      "source": [
        ""
      ],
      "execution_count": null,
      "outputs": []
    }
  ]
}