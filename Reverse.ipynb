{
  "nbformat": 4,
  "nbformat_minor": 0,
  "metadata": {
    "colab": {
      "name": "Reverse.ipynb",
      "provenance": [],
      "authorship_tag": "ABX9TyOKQOblZka0YNIVuW3kUG+B",
      "include_colab_link": true
    },
    "kernelspec": {
      "name": "python3",
      "display_name": "Python 3"
    },
    "language_info": {
      "name": "python"
    }
  },
  "cells": [
    {
      "cell_type": "markdown",
      "metadata": {
        "id": "view-in-github",
        "colab_type": "text"
      },
      "source": [
        "<a href=\"https://colab.research.google.com/github/veenasnair18/Python-tutorial-using-Jupyter-Notebook-/blob/master/Reverse.ipynb\" target=\"_parent\"><img src=\"https://colab.research.google.com/assets/colab-badge.svg\" alt=\"Open In Colab\"/></a>"
      ]
    },
    {
      "cell_type": "code",
      "metadata": {
        "colab": {
          "base_uri": "https://localhost:8080/"
        },
        "id": "POGjhtEiy_ky",
        "outputId": "b6d053fd-fcb6-404c-ff06-4ad62b93ed7a"
      },
      "source": [
        "#Number\n",
        "no=int(input(\"Enter a number\"))\n",
        "rev = 0\n",
        "n=no\n",
        "while (n > 0):\n",
        "  a=n%10\n",
        "  rev=rev*10+a\n",
        "  n=n//10\n",
        "print(\"Reversed Number:\",rev)"
      ],
      "execution_count": null,
      "outputs": [
        {
          "output_type": "stream",
          "text": [
            "Enter a number256\n",
            "Reversed Number: 652\n"
          ],
          "name": "stdout"
        }
      ]
    },
    {
      "cell_type": "code",
      "metadata": {
        "colab": {
          "base_uri": "https://localhost:8080/"
        },
        "id": "Tp-72_GA0pEt",
        "outputId": "43600fae-ceae-4e64-f3d7-45058e7d1761"
      },
      "source": [
        "#String\n",
        "string=input(\"Enter a string?\")\n",
        "string = \"\".join(reversed(string))\n",
        "print(string)\n"
      ],
      "execution_count": null,
      "outputs": [
        {
          "output_type": "stream",
          "text": [
            "Enter a string?veena\n",
            "aneev\n"
          ],
          "name": "stdout"
        }
      ]
    }
  ]
}