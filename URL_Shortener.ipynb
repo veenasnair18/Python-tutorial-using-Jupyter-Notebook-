{
  "nbformat": 4,
  "nbformat_minor": 0,
  "metadata": {
    "colab": {
      "name": "URL Shortener.ipynb",
      "provenance": []
    },
    "kernelspec": {
      "name": "python3",
      "display_name": "Python 3"
    }
  },
  "cells": [
    {
      "cell_type": "code",
      "metadata": {
        "id": "ye7RCO65UlTz",
        "colab_type": "code",
        "colab": {
          "base_uri": "https://localhost:8080/",
          "height": 275
        },
        "outputId": "8de5c1e0-33b4-49c7-feda-01486b46af03"
      },
      "source": [
        "!pip install pyshorteners"
      ],
      "execution_count": 3,
      "outputs": [
        {
          "output_type": "stream",
          "text": [
            "Collecting pyshorteners\n",
            "  Downloading https://files.pythonhosted.org/packages/80/13/7dd5f53ac009775e18861f41efadf78160e1015c84a476d373957cb63b5c/pyshorteners-1.0.1.tar.gz\n",
            "Requirement already satisfied: requests in /usr/local/lib/python3.6/dist-packages (from pyshorteners) (2.23.0)\n",
            "Requirement already satisfied: idna<3,>=2.5 in /usr/local/lib/python3.6/dist-packages (from requests->pyshorteners) (2.9)\n",
            "Requirement already satisfied: urllib3!=1.25.0,!=1.25.1,<1.26,>=1.21.1 in /usr/local/lib/python3.6/dist-packages (from requests->pyshorteners) (1.24.3)\n",
            "Requirement already satisfied: certifi>=2017.4.17 in /usr/local/lib/python3.6/dist-packages (from requests->pyshorteners) (2020.6.20)\n",
            "Requirement already satisfied: chardet<4,>=3.0.2 in /usr/local/lib/python3.6/dist-packages (from requests->pyshorteners) (3.0.4)\n",
            "Building wheels for collected packages: pyshorteners\n",
            "  Building wheel for pyshorteners (setup.py) ... \u001b[?25l\u001b[?25hdone\n",
            "  Created wheel for pyshorteners: filename=pyshorteners-1.0.1-cp36-none-any.whl size=17495 sha256=f515e00f46f08a57460ba9e902b137fa48ed564c5be9660ba5f23ad59a10006e\n",
            "  Stored in directory: /root/.cache/pip/wheels/99/2b/ab/854c6fdf96d6775ffe179ec99211af2adecb450108c477ada2\n",
            "Successfully built pyshorteners\n",
            "Installing collected packages: pyshorteners\n",
            "Successfully installed pyshorteners-1.0.1\n"
          ],
          "name": "stdout"
        }
      ]
    },
    {
      "cell_type": "code",
      "metadata": {
        "id": "aMqzXf-pVRbd",
        "colab_type": "code",
        "colab": {}
      },
      "source": [
        "import pyshorteners"
      ],
      "execution_count": 4,
      "outputs": []
    },
    {
      "cell_type": "code",
      "metadata": {
        "id": "MlAKjHdJVpUB",
        "colab_type": "code",
        "colab": {
          "base_uri": "https://localhost:8080/",
          "height": 71
        },
        "outputId": "caf3c6f4-3d5f-4f13-b63c-ee3eebc9ece6"
      },
      "source": [
        "url=input(\"Please Enter The URL?\")\n",
        "u=pyshorteners.Shortener()\n",
        "print(\"Your Shortened URL:\",u.tinyurl.short(url))"
      ],
      "execution_count": 5,
      "outputs": [
        {
          "output_type": "stream",
          "text": [
            "Please Enter The URL?https://www.amazon.in/gp/bestsellers/sports?pf_rd_r=27AVYZCQ7RWNG3RNK9ZF&pf_rd_p=0851a66c-1b5f-5434-852d-b3c8c326d2e7&pd_rd_r=a93de7d4-e3e1-49a2-8fae-edfc233e2dee&pd_rd_w=U2Z0n&pd_rd_wg=I7XUW&ref_=pd_gw_ri\n",
            "Your Shortened URL: http://tinyurl.com/y9ds66oa\n"
          ],
          "name": "stdout"
        }
      ]
    }
  ]
}