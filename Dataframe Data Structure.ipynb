{
 "cells": [
  {
   "cell_type": "markdown",
   "metadata": {},
   "source": [
    "# Dataframe\n",
    "* Data Structure in Pandas\n",
    "* Helps in data cleaning"
   ]
  },
  {
   "cell_type": "code",
   "execution_count": 5,
   "metadata": {
    "collapsed": false
   },
   "outputs": [
    {
     "data": {
      "text/html": [
       "<div>\n",
       "<table border=\"1\" class=\"dataframe\">\n",
       "  <thead>\n",
       "    <tr style=\"text-align: right;\">\n",
       "      <th></th>\n",
       "      <th>Fav_Actor</th>\n",
       "      <th>Fav_Number</th>\n",
       "      <th>Name</th>\n",
       "    </tr>\n",
       "  </thead>\n",
       "  <tbody>\n",
       "    <tr>\n",
       "      <th>Info1</th>\n",
       "      <td>Lee Joon Gi</td>\n",
       "      <td>9</td>\n",
       "      <td>Veena</td>\n",
       "    </tr>\n",
       "    <tr>\n",
       "      <th>Info2</th>\n",
       "      <td>Lee Min Ho</td>\n",
       "      <td>7</td>\n",
       "      <td>Sreya</td>\n",
       "    </tr>\n",
       "    <tr>\n",
       "      <th>Info3</th>\n",
       "      <td>Lee Jong Suk</td>\n",
       "      <td>3</td>\n",
       "      <td>Haripriya</td>\n",
       "    </tr>\n",
       "  </tbody>\n",
       "</table>\n",
       "</div>"
      ],
      "text/plain": [
       "          Fav_Actor  Fav_Number       Name\n",
       "Info1   Lee Joon Gi           9      Veena\n",
       "Info2    Lee Min Ho           7      Sreya\n",
       "Info3  Lee Jong Suk           3  Haripriya"
      ]
     },
     "execution_count": 5,
     "metadata": {},
     "output_type": "execute_result"
    }
   ],
   "source": [
    "import pandas as pd\n",
    "Info11 = pd.Series({'Name': 'Veena',\n",
    "                        'Fav_Actor': 'Lee Joon Gi',\n",
    "                        'Fav_Number': 9})\n",
    "Info22 = pd.Series({'Name': 'Sreya',\n",
    "                        'Fav_Actor': 'Lee Min Ho',\n",
    "                        'Fav_Number': 7})\n",
    "Info33 = pd.Series({'Name': 'Haripriya',\n",
    "                        'Fav_Actor': 'Lee Jong Suk',\n",
    "                        'Fav_Number': 3})\n",
    "df = pd.DataFrame([Info11, Info22, Info33], index=['Info1', 'Info2', 'Info3'])\n",
    "df.head()"
   ]
  },
  {
   "cell_type": "code",
   "execution_count": 7,
   "metadata": {
    "collapsed": false
   },
   "outputs": [
    {
     "data": {
      "text/plain": [
       "Fav_Actor     Lee Jong Suk\n",
       "Fav_Number               3\n",
       "Name             Haripriya\n",
       "Name: Info3, dtype: object"
      ]
     },
     "execution_count": 7,
     "metadata": {},
     "output_type": "execute_result"
    }
   ],
   "source": [
    "df.loc['Info3']"
   ]
  },
  {
   "cell_type": "code",
   "execution_count": 8,
   "metadata": {
    "collapsed": false
   },
   "outputs": [
    {
     "data": {
      "text/html": [
       "<div>\n",
       "<table border=\"1\" class=\"dataframe\">\n",
       "  <thead>\n",
       "    <tr style=\"text-align: right;\">\n",
       "      <th></th>\n",
       "      <th>Info1</th>\n",
       "      <th>Info2</th>\n",
       "      <th>Info3</th>\n",
       "    </tr>\n",
       "  </thead>\n",
       "  <tbody>\n",
       "    <tr>\n",
       "      <th>Fav_Actor</th>\n",
       "      <td>Lee Joon Gi</td>\n",
       "      <td>Lee Min Ho</td>\n",
       "      <td>Lee Jong Suk</td>\n",
       "    </tr>\n",
       "    <tr>\n",
       "      <th>Fav_Number</th>\n",
       "      <td>9</td>\n",
       "      <td>7</td>\n",
       "      <td>3</td>\n",
       "    </tr>\n",
       "    <tr>\n",
       "      <th>Name</th>\n",
       "      <td>Veena</td>\n",
       "      <td>Sreya</td>\n",
       "      <td>Haripriya</td>\n",
       "    </tr>\n",
       "  </tbody>\n",
       "</table>\n",
       "</div>"
      ],
      "text/plain": [
       "                  Info1       Info2         Info3\n",
       "Fav_Actor   Lee Joon Gi  Lee Min Ho  Lee Jong Suk\n",
       "Fav_Number            9           7             3\n",
       "Name              Veena       Sreya     Haripriya"
      ]
     },
     "execution_count": 8,
     "metadata": {},
     "output_type": "execute_result"
    }
   ],
   "source": [
    "df.T"
   ]
  },
  {
   "cell_type": "code",
   "execution_count": 9,
   "metadata": {
    "collapsed": false
   },
   "outputs": [
    {
     "data": {
      "text/html": [
       "<div>\n",
       "<table border=\"1\" class=\"dataframe\">\n",
       "  <thead>\n",
       "    <tr style=\"text-align: right;\">\n",
       "      <th></th>\n",
       "      <th>Fav_Actor</th>\n",
       "      <th>Fav_Number</th>\n",
       "      <th>Name</th>\n",
       "    </tr>\n",
       "  </thead>\n",
       "  <tbody>\n",
       "    <tr>\n",
       "      <th>Info1</th>\n",
       "      <td>Lee Joon Gi</td>\n",
       "      <td>9</td>\n",
       "      <td>Veena</td>\n",
       "    </tr>\n",
       "    <tr>\n",
       "      <th>Info2</th>\n",
       "      <td>Lee Min Ho</td>\n",
       "      <td>7</td>\n",
       "      <td>Sreya</td>\n",
       "    </tr>\n",
       "    <tr>\n",
       "      <th>Info3</th>\n",
       "      <td>Lee Jong Suk</td>\n",
       "      <td>3</td>\n",
       "      <td>Haripriya</td>\n",
       "    </tr>\n",
       "  </tbody>\n",
       "</table>\n",
       "</div>"
      ],
      "text/plain": [
       "          Fav_Actor  Fav_Number       Name\n",
       "Info1   Lee Joon Gi           9      Veena\n",
       "Info2    Lee Min Ho           7      Sreya\n",
       "Info3  Lee Jong Suk           3  Haripriya"
      ]
     },
     "execution_count": 9,
     "metadata": {},
     "output_type": "execute_result"
    }
   ],
   "source": [
    "df"
   ]
  },
  {
   "cell_type": "code",
   "execution_count": 13,
   "metadata": {
    "collapsed": false
   },
   "outputs": [
    {
     "data": {
      "text/html": [
       "<div>\n",
       "<table border=\"1\" class=\"dataframe\">\n",
       "  <thead>\n",
       "    <tr style=\"text-align: right;\">\n",
       "      <th></th>\n",
       "      <th>Fav_Actor</th>\n",
       "      <th>Fav_Number</th>\n",
       "      <th>Name</th>\n",
       "    </tr>\n",
       "  </thead>\n",
       "  <tbody>\n",
       "    <tr>\n",
       "      <th>Info1</th>\n",
       "      <td>Lee Joon Gi</td>\n",
       "      <td>9</td>\n",
       "      <td>Veena</td>\n",
       "    </tr>\n",
       "    <tr>\n",
       "      <th>Info3</th>\n",
       "      <td>Lee Jong Suk</td>\n",
       "      <td>3</td>\n",
       "      <td>Haripriya</td>\n",
       "    </tr>\n",
       "  </tbody>\n",
       "</table>\n",
       "</div>"
      ],
      "text/plain": [
       "          Fav_Actor  Fav_Number       Name\n",
       "Info1   Lee Joon Gi           9      Veena\n",
       "Info3  Lee Jong Suk           3  Haripriya"
      ]
     },
     "execution_count": 13,
     "metadata": {},
     "output_type": "execute_result"
    }
   ],
   "source": [
    "copy_df = df.copy()\n",
    "copy_df = copy_df.drop('Info2')\n",
    "copy_df"
   ]
  },
  {
   "cell_type": "code",
   "execution_count": null,
   "metadata": {
    "collapsed": true
   },
   "outputs": [],
   "source": [
    "copy_df.drop?"
   ]
  }
 ],
 "metadata": {
  "kernelspec": {
   "display_name": "Python 2",
   "language": "python",
   "name": "python2"
  },
  "language_info": {
   "codemirror_mode": {
    "name": "ipython",
    "version": 2
   },
   "file_extension": ".py",
   "mimetype": "text/x-python",
   "name": "python",
   "nbconvert_exporter": "python",
   "pygments_lexer": "ipython2",
   "version": "2.7.13"
  }
 },
 "nbformat": 4,
 "nbformat_minor": 0
}
